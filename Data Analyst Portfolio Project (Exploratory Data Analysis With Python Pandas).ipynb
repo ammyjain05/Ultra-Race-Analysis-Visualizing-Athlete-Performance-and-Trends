{
 "cells": [
  {
   "cell_type": "code",
   "execution_count": 33,
   "id": "9a43765d-d726-411a-80e9-e739913b1651",
   "metadata": {},
   "outputs": [],
   "source": [
    "#Import Libraries\n",
    "import pandas as pd\n",
    "import seaborn as sns"
   ]
  },
  {
   "cell_type": "code",
   "execution_count": 34,
   "id": "ade5a099-fc63-4acb-92dc-fea87601a585",
   "metadata": {},
   "outputs": [
    {
     "name": "stderr",
     "output_type": "stream",
     "text": [
      "/var/folders/5s/1f83cnkn01q78m45bb0shgyc0000gn/T/ipykernel_35468/107228863.py:1: DtypeWarning: Columns (11) have mixed types. Specify dtype option on import or set low_memory=False.\n",
      "  df = pd.read_csv('TWO_CENTURIES_OF_UM_RACES.csv')\n"
     ]
    }
   ],
   "source": [
    "df = pd.read_csv('TWO_CENTURIES_OF_UM_RACES.csv')"
   ]
  },
  {
   "cell_type": "code",
   "execution_count": 35,
   "id": "d455b3f5-f6d8-47d2-8079-dd36ad639b12",
   "metadata": {},
   "outputs": [
    {
     "data": {
      "text/html": [
       "<div>\n",
       "<style scoped>\n",
       "    .dataframe tbody tr th:only-of-type {\n",
       "        vertical-align: middle;\n",
       "    }\n",
       "\n",
       "    .dataframe tbody tr th {\n",
       "        vertical-align: top;\n",
       "    }\n",
       "\n",
       "    .dataframe thead th {\n",
       "        text-align: right;\n",
       "    }\n",
       "</style>\n",
       "<table border=\"1\" class=\"dataframe\">\n",
       "  <thead>\n",
       "    <tr style=\"text-align: right;\">\n",
       "      <th></th>\n",
       "      <th>Year of event</th>\n",
       "      <th>Event dates</th>\n",
       "      <th>Event name</th>\n",
       "      <th>Event distance/length</th>\n",
       "      <th>Event number of finishers</th>\n",
       "      <th>Athlete performance</th>\n",
       "      <th>Athlete club</th>\n",
       "      <th>Athlete country</th>\n",
       "      <th>Athlete year of birth</th>\n",
       "      <th>Athlete gender</th>\n",
       "      <th>Athlete age category</th>\n",
       "      <th>Athlete average speed</th>\n",
       "      <th>Athlete ID</th>\n",
       "    </tr>\n",
       "  </thead>\n",
       "  <tbody>\n",
       "    <tr>\n",
       "      <th>0</th>\n",
       "      <td>2018</td>\n",
       "      <td>06.01.2018</td>\n",
       "      <td>Selva Costera (CHI)</td>\n",
       "      <td>50km</td>\n",
       "      <td>22</td>\n",
       "      <td>4:51:39 h</td>\n",
       "      <td>Tnfrc</td>\n",
       "      <td>CHI</td>\n",
       "      <td>1978.0</td>\n",
       "      <td>M</td>\n",
       "      <td>M35</td>\n",
       "      <td>10.286</td>\n",
       "      <td>0</td>\n",
       "    </tr>\n",
       "    <tr>\n",
       "      <th>1</th>\n",
       "      <td>2018</td>\n",
       "      <td>06.01.2018</td>\n",
       "      <td>Selva Costera (CHI)</td>\n",
       "      <td>50km</td>\n",
       "      <td>22</td>\n",
       "      <td>5:15:45 h</td>\n",
       "      <td>Roberto Echeverría</td>\n",
       "      <td>CHI</td>\n",
       "      <td>1981.0</td>\n",
       "      <td>M</td>\n",
       "      <td>M35</td>\n",
       "      <td>9.501</td>\n",
       "      <td>1</td>\n",
       "    </tr>\n",
       "    <tr>\n",
       "      <th>2</th>\n",
       "      <td>2018</td>\n",
       "      <td>06.01.2018</td>\n",
       "      <td>Selva Costera (CHI)</td>\n",
       "      <td>50km</td>\n",
       "      <td>22</td>\n",
       "      <td>5:16:44 h</td>\n",
       "      <td>Puro Trail Osorno</td>\n",
       "      <td>CHI</td>\n",
       "      <td>1987.0</td>\n",
       "      <td>M</td>\n",
       "      <td>M23</td>\n",
       "      <td>9.472</td>\n",
       "      <td>2</td>\n",
       "    </tr>\n",
       "    <tr>\n",
       "      <th>3</th>\n",
       "      <td>2018</td>\n",
       "      <td>06.01.2018</td>\n",
       "      <td>Selva Costera (CHI)</td>\n",
       "      <td>50km</td>\n",
       "      <td>22</td>\n",
       "      <td>5:34:13 h</td>\n",
       "      <td>Columbia</td>\n",
       "      <td>ARG</td>\n",
       "      <td>1976.0</td>\n",
       "      <td>M</td>\n",
       "      <td>M40</td>\n",
       "      <td>8.976</td>\n",
       "      <td>3</td>\n",
       "    </tr>\n",
       "    <tr>\n",
       "      <th>4</th>\n",
       "      <td>2018</td>\n",
       "      <td>06.01.2018</td>\n",
       "      <td>Selva Costera (CHI)</td>\n",
       "      <td>50km</td>\n",
       "      <td>22</td>\n",
       "      <td>5:54:14 h</td>\n",
       "      <td>Baguales Trail</td>\n",
       "      <td>CHI</td>\n",
       "      <td>1992.0</td>\n",
       "      <td>M</td>\n",
       "      <td>M23</td>\n",
       "      <td>8.469</td>\n",
       "      <td>4</td>\n",
       "    </tr>\n",
       "  </tbody>\n",
       "</table>\n",
       "</div>"
      ],
      "text/plain": [
       "   Year of event Event dates           Event name Event distance/length  \\\n",
       "0           2018  06.01.2018  Selva Costera (CHI)                  50km   \n",
       "1           2018  06.01.2018  Selva Costera (CHI)                  50km   \n",
       "2           2018  06.01.2018  Selva Costera (CHI)                  50km   \n",
       "3           2018  06.01.2018  Selva Costera (CHI)                  50km   \n",
       "4           2018  06.01.2018  Selva Costera (CHI)                  50km   \n",
       "\n",
       "   Event number of finishers Athlete performance        Athlete club  \\\n",
       "0                         22           4:51:39 h               Tnfrc   \n",
       "1                         22           5:15:45 h  Roberto Echeverría   \n",
       "2                         22           5:16:44 h   Puro Trail Osorno   \n",
       "3                         22           5:34:13 h            Columbia   \n",
       "4                         22           5:54:14 h      Baguales Trail   \n",
       "\n",
       "  Athlete country  Athlete year of birth Athlete gender Athlete age category  \\\n",
       "0             CHI                 1978.0              M                  M35   \n",
       "1             CHI                 1981.0              M                  M35   \n",
       "2             CHI                 1987.0              M                  M23   \n",
       "3             ARG                 1976.0              M                  M40   \n",
       "4             CHI                 1992.0              M                  M23   \n",
       "\n",
       "  Athlete average speed  Athlete ID  \n",
       "0                10.286           0  \n",
       "1                 9.501           1  \n",
       "2                 9.472           2  \n",
       "3                 8.976           3  \n",
       "4                 8.469           4  "
      ]
     },
     "execution_count": 35,
     "metadata": {},
     "output_type": "execute_result"
    }
   ],
   "source": [
    "df.head()"
   ]
  },
  {
   "cell_type": "code",
   "execution_count": 36,
   "id": "83db8b3b-e795-4157-be71-f77fd3dba1c7",
   "metadata": {},
   "outputs": [
    {
     "data": {
      "text/plain": [
       "(7461195, 13)"
      ]
     },
     "execution_count": 36,
     "metadata": {},
     "output_type": "execute_result"
    }
   ],
   "source": [
    "df.shape"
   ]
  },
  {
   "cell_type": "code",
   "execution_count": 37,
   "id": "fa72536a-dd12-4e76-b2ef-1fe2a3ebae49",
   "metadata": {},
   "outputs": [
    {
     "data": {
      "text/plain": [
       "Year of event                  int64\n",
       "Event dates                   object\n",
       "Event name                    object\n",
       "Event distance/length         object\n",
       "Event number of finishers      int64\n",
       "Athlete performance           object\n",
       "Athlete club                  object\n",
       "Athlete country               object\n",
       "Athlete year of birth        float64\n",
       "Athlete gender                object\n",
       "Athlete age category          object\n",
       "Athlete average speed         object\n",
       "Athlete ID                     int64\n",
       "dtype: object"
      ]
     },
     "execution_count": 37,
     "metadata": {},
     "output_type": "execute_result"
    }
   ],
   "source": [
    "df.dtypes"
   ]
  },
  {
   "cell_type": "markdown",
   "id": "09441d50-cba8-4a52-9c4f-bbdb2d53ba0e",
   "metadata": {},
   "source": [
    "#Data Cleaning"
   ]
  },
  {
   "cell_type": "markdown",
   "id": "234ad02a-f0d4-4e89-af2f-fe45f9b4e82b",
   "metadata": {},
   "source": [
    "#Only France Races, 50Km and 50Mi, 2020"
   ]
  },
  {
   "cell_type": "code",
   "execution_count": 38,
   "id": "73fa3bb0-e782-446d-aab9-f546411b8f9b",
   "metadata": {},
   "outputs": [
    {
     "data": {
      "text/plain": [
       "50km              1522609\n",
       "100km              951742\n",
       "50mi               352181\n",
       "56km               333253\n",
       "87km               212062\n",
       "                   ...   \n",
       "61.15km                 1\n",
       "27:30h                  1\n",
       "178km/2Etappen          1\n",
       "740km                   1\n",
       "158.5mi                 1\n",
       "Name: Event distance/length, Length: 2160, dtype: int64"
      ]
     },
     "execution_count": 38,
     "metadata": {},
     "output_type": "execute_result"
    }
   ],
   "source": [
    "df[\"Event distance/length\"].value_counts()"
   ]
  },
  {
   "cell_type": "code",
   "execution_count": 39,
   "id": "b77c43fe-b5f7-4199-b7a8-c725b59d167c",
   "metadata": {
    "scrolled": true
   },
   "outputs": [
    {
     "data": {
      "text/html": [
       "<div>\n",
       "<style scoped>\n",
       "    .dataframe tbody tr th:only-of-type {\n",
       "        vertical-align: middle;\n",
       "    }\n",
       "\n",
       "    .dataframe tbody tr th {\n",
       "        vertical-align: top;\n",
       "    }\n",
       "\n",
       "    .dataframe thead th {\n",
       "        text-align: right;\n",
       "    }\n",
       "</style>\n",
       "<table border=\"1\" class=\"dataframe\">\n",
       "  <thead>\n",
       "    <tr style=\"text-align: right;\">\n",
       "      <th></th>\n",
       "      <th>Year of event</th>\n",
       "      <th>Event dates</th>\n",
       "      <th>Event name</th>\n",
       "      <th>Event distance/length</th>\n",
       "      <th>Event number of finishers</th>\n",
       "      <th>Athlete performance</th>\n",
       "      <th>Athlete club</th>\n",
       "      <th>Athlete country</th>\n",
       "      <th>Athlete year of birth</th>\n",
       "      <th>Athlete gender</th>\n",
       "      <th>Athlete age category</th>\n",
       "      <th>Athlete average speed</th>\n",
       "      <th>Athlete ID</th>\n",
       "    </tr>\n",
       "  </thead>\n",
       "  <tbody>\n",
       "    <tr>\n",
       "      <th>0</th>\n",
       "      <td>2018</td>\n",
       "      <td>06.01.2018</td>\n",
       "      <td>Selva Costera (CHI)</td>\n",
       "      <td>50km</td>\n",
       "      <td>22</td>\n",
       "      <td>4:51:39 h</td>\n",
       "      <td>Tnfrc</td>\n",
       "      <td>CHI</td>\n",
       "      <td>1978.0</td>\n",
       "      <td>M</td>\n",
       "      <td>M35</td>\n",
       "      <td>10.286</td>\n",
       "      <td>0</td>\n",
       "    </tr>\n",
       "    <tr>\n",
       "      <th>1</th>\n",
       "      <td>2018</td>\n",
       "      <td>06.01.2018</td>\n",
       "      <td>Selva Costera (CHI)</td>\n",
       "      <td>50km</td>\n",
       "      <td>22</td>\n",
       "      <td>5:15:45 h</td>\n",
       "      <td>Roberto Echeverría</td>\n",
       "      <td>CHI</td>\n",
       "      <td>1981.0</td>\n",
       "      <td>M</td>\n",
       "      <td>M35</td>\n",
       "      <td>9.501</td>\n",
       "      <td>1</td>\n",
       "    </tr>\n",
       "    <tr>\n",
       "      <th>2</th>\n",
       "      <td>2018</td>\n",
       "      <td>06.01.2018</td>\n",
       "      <td>Selva Costera (CHI)</td>\n",
       "      <td>50km</td>\n",
       "      <td>22</td>\n",
       "      <td>5:16:44 h</td>\n",
       "      <td>Puro Trail Osorno</td>\n",
       "      <td>CHI</td>\n",
       "      <td>1987.0</td>\n",
       "      <td>M</td>\n",
       "      <td>M23</td>\n",
       "      <td>9.472</td>\n",
       "      <td>2</td>\n",
       "    </tr>\n",
       "    <tr>\n",
       "      <th>3</th>\n",
       "      <td>2018</td>\n",
       "      <td>06.01.2018</td>\n",
       "      <td>Selva Costera (CHI)</td>\n",
       "      <td>50km</td>\n",
       "      <td>22</td>\n",
       "      <td>5:34:13 h</td>\n",
       "      <td>Columbia</td>\n",
       "      <td>ARG</td>\n",
       "      <td>1976.0</td>\n",
       "      <td>M</td>\n",
       "      <td>M40</td>\n",
       "      <td>8.976</td>\n",
       "      <td>3</td>\n",
       "    </tr>\n",
       "    <tr>\n",
       "      <th>4</th>\n",
       "      <td>2018</td>\n",
       "      <td>06.01.2018</td>\n",
       "      <td>Selva Costera (CHI)</td>\n",
       "      <td>50km</td>\n",
       "      <td>22</td>\n",
       "      <td>5:54:14 h</td>\n",
       "      <td>Baguales Trail</td>\n",
       "      <td>CHI</td>\n",
       "      <td>1992.0</td>\n",
       "      <td>M</td>\n",
       "      <td>M23</td>\n",
       "      <td>8.469</td>\n",
       "      <td>4</td>\n",
       "    </tr>\n",
       "    <tr>\n",
       "      <th>...</th>\n",
       "      <td>...</td>\n",
       "      <td>...</td>\n",
       "      <td>...</td>\n",
       "      <td>...</td>\n",
       "      <td>...</td>\n",
       "      <td>...</td>\n",
       "      <td>...</td>\n",
       "      <td>...</td>\n",
       "      <td>...</td>\n",
       "      <td>...</td>\n",
       "      <td>...</td>\n",
       "      <td>...</td>\n",
       "      <td>...</td>\n",
       "    </tr>\n",
       "    <tr>\n",
       "      <th>7461181</th>\n",
       "      <td>1995</td>\n",
       "      <td>07.01.1995</td>\n",
       "      <td>Avalon Benefit 50-Mile Run (USA)</td>\n",
       "      <td>50mi</td>\n",
       "      <td>92</td>\n",
       "      <td>11:59:37 h</td>\n",
       "      <td>NaN</td>\n",
       "      <td>USA</td>\n",
       "      <td>1941.0</td>\n",
       "      <td>M</td>\n",
       "      <td>M50</td>\n",
       "      <td>6709.0</td>\n",
       "      <td>1045603</td>\n",
       "    </tr>\n",
       "    <tr>\n",
       "      <th>7461182</th>\n",
       "      <td>1995</td>\n",
       "      <td>07.01.1995</td>\n",
       "      <td>Avalon Benefit 50-Mile Run (USA)</td>\n",
       "      <td>50mi</td>\n",
       "      <td>92</td>\n",
       "      <td>12:01:41 h</td>\n",
       "      <td>NaN</td>\n",
       "      <td>USA</td>\n",
       "      <td>1932.0</td>\n",
       "      <td>M</td>\n",
       "      <td>M60</td>\n",
       "      <td>6690.0</td>\n",
       "      <td>1070463</td>\n",
       "    </tr>\n",
       "    <tr>\n",
       "      <th>7461183</th>\n",
       "      <td>1995</td>\n",
       "      <td>07.01.1995</td>\n",
       "      <td>Avalon Benefit 50-Mile Run (USA)</td>\n",
       "      <td>50mi</td>\n",
       "      <td>92</td>\n",
       "      <td>12:03:26 h</td>\n",
       "      <td>NaN</td>\n",
       "      <td>USA</td>\n",
       "      <td>1934.0</td>\n",
       "      <td>F</td>\n",
       "      <td>W60</td>\n",
       "      <td>6674.0</td>\n",
       "      <td>416139</td>\n",
       "    </tr>\n",
       "    <tr>\n",
       "      <th>7461184</th>\n",
       "      <td>1995</td>\n",
       "      <td>07.01.1995</td>\n",
       "      <td>Avalon Benefit 50-Mile Run (USA)</td>\n",
       "      <td>50mi</td>\n",
       "      <td>92</td>\n",
       "      <td>12:03:26 h</td>\n",
       "      <td>NaN</td>\n",
       "      <td>USA</td>\n",
       "      <td>1951.0</td>\n",
       "      <td>F</td>\n",
       "      <td>W40</td>\n",
       "      <td>6674.0</td>\n",
       "      <td>1098098</td>\n",
       "    </tr>\n",
       "    <tr>\n",
       "      <th>7461185</th>\n",
       "      <td>1995</td>\n",
       "      <td>07.01.1995</td>\n",
       "      <td>Avalon Benefit 50-Mile Run (USA)</td>\n",
       "      <td>50mi</td>\n",
       "      <td>92</td>\n",
       "      <td>12:05:59 h</td>\n",
       "      <td>NaN</td>\n",
       "      <td>USA</td>\n",
       "      <td>1947.0</td>\n",
       "      <td>F</td>\n",
       "      <td>W45</td>\n",
       "      <td>6650.0</td>\n",
       "      <td>1626367</td>\n",
       "    </tr>\n",
       "  </tbody>\n",
       "</table>\n",
       "<p>1874790 rows × 13 columns</p>\n",
       "</div>"
      ],
      "text/plain": [
       "         Year of event Event dates                        Event name  \\\n",
       "0                 2018  06.01.2018               Selva Costera (CHI)   \n",
       "1                 2018  06.01.2018               Selva Costera (CHI)   \n",
       "2                 2018  06.01.2018               Selva Costera (CHI)   \n",
       "3                 2018  06.01.2018               Selva Costera (CHI)   \n",
       "4                 2018  06.01.2018               Selva Costera (CHI)   \n",
       "...                ...         ...                               ...   \n",
       "7461181           1995  07.01.1995  Avalon Benefit 50-Mile Run (USA)   \n",
       "7461182           1995  07.01.1995  Avalon Benefit 50-Mile Run (USA)   \n",
       "7461183           1995  07.01.1995  Avalon Benefit 50-Mile Run (USA)   \n",
       "7461184           1995  07.01.1995  Avalon Benefit 50-Mile Run (USA)   \n",
       "7461185           1995  07.01.1995  Avalon Benefit 50-Mile Run (USA)   \n",
       "\n",
       "        Event distance/length  Event number of finishers Athlete performance  \\\n",
       "0                        50km                         22           4:51:39 h   \n",
       "1                        50km                         22           5:15:45 h   \n",
       "2                        50km                         22           5:16:44 h   \n",
       "3                        50km                         22           5:34:13 h   \n",
       "4                        50km                         22           5:54:14 h   \n",
       "...                       ...                        ...                 ...   \n",
       "7461181                  50mi                         92          11:59:37 h   \n",
       "7461182                  50mi                         92          12:01:41 h   \n",
       "7461183                  50mi                         92          12:03:26 h   \n",
       "7461184                  50mi                         92          12:03:26 h   \n",
       "7461185                  50mi                         92          12:05:59 h   \n",
       "\n",
       "               Athlete club Athlete country  Athlete year of birth  \\\n",
       "0                     Tnfrc             CHI                 1978.0   \n",
       "1        Roberto Echeverría             CHI                 1981.0   \n",
       "2         Puro Trail Osorno             CHI                 1987.0   \n",
       "3                  Columbia             ARG                 1976.0   \n",
       "4            Baguales Trail             CHI                 1992.0   \n",
       "...                     ...             ...                    ...   \n",
       "7461181                 NaN             USA                 1941.0   \n",
       "7461182                 NaN             USA                 1932.0   \n",
       "7461183                 NaN             USA                 1934.0   \n",
       "7461184                 NaN             USA                 1951.0   \n",
       "7461185                 NaN             USA                 1947.0   \n",
       "\n",
       "        Athlete gender Athlete age category Athlete average speed  Athlete ID  \n",
       "0                    M                  M35                10.286           0  \n",
       "1                    M                  M35                 9.501           1  \n",
       "2                    M                  M23                 9.472           2  \n",
       "3                    M                  M40                 8.976           3  \n",
       "4                    M                  M23                 8.469           4  \n",
       "...                ...                  ...                   ...         ...  \n",
       "7461181              M                  M50                6709.0     1045603  \n",
       "7461182              M                  M60                6690.0     1070463  \n",
       "7461183              F                  W60                6674.0      416139  \n",
       "7461184              F                  W40                6674.0     1098098  \n",
       "7461185              F                  W45                6650.0     1626367  \n",
       "\n",
       "[1874790 rows x 13 columns]"
      ]
     },
     "execution_count": 39,
     "metadata": {},
     "output_type": "execute_result"
    }
   ],
   "source": [
    "df[df[\"Event distance/length\"].isin(['50km','50mi'])]"
   ]
  },
  {
   "cell_type": "code",
   "execution_count": 40,
   "id": "5bb91ba3-a9bc-43c4-be84-3c071804ebf0",
   "metadata": {
    "scrolled": true
   },
   "outputs": [
    {
     "data": {
      "text/html": [
       "<div>\n",
       "<style scoped>\n",
       "    .dataframe tbody tr th:only-of-type {\n",
       "        vertical-align: middle;\n",
       "    }\n",
       "\n",
       "    .dataframe tbody tr th {\n",
       "        vertical-align: top;\n",
       "    }\n",
       "\n",
       "    .dataframe thead th {\n",
       "        text-align: right;\n",
       "    }\n",
       "</style>\n",
       "<table border=\"1\" class=\"dataframe\">\n",
       "  <thead>\n",
       "    <tr style=\"text-align: right;\">\n",
       "      <th></th>\n",
       "      <th>Year of event</th>\n",
       "      <th>Event dates</th>\n",
       "      <th>Event name</th>\n",
       "      <th>Event distance/length</th>\n",
       "      <th>Event number of finishers</th>\n",
       "      <th>Athlete performance</th>\n",
       "      <th>Athlete club</th>\n",
       "      <th>Athlete country</th>\n",
       "      <th>Athlete year of birth</th>\n",
       "      <th>Athlete gender</th>\n",
       "      <th>Athlete age category</th>\n",
       "      <th>Athlete average speed</th>\n",
       "      <th>Athlete ID</th>\n",
       "    </tr>\n",
       "  </thead>\n",
       "  <tbody>\n",
       "    <tr>\n",
       "      <th>2538571</th>\n",
       "      <td>2020</td>\n",
       "      <td>07.-09.02.2020</td>\n",
       "      <td>Taipei 48hr Ultra Marathon - 50mi (TPE)</td>\n",
       "      <td>50mi</td>\n",
       "      <td>38</td>\n",
       "      <td>7:34:19 h</td>\n",
       "      <td>日本隊</td>\n",
       "      <td>JPN</td>\n",
       "      <td>1965.0</td>\n",
       "      <td>M</td>\n",
       "      <td>M50</td>\n",
       "      <td>10.627</td>\n",
       "      <td>53107</td>\n",
       "    </tr>\n",
       "    <tr>\n",
       "      <th>2538572</th>\n",
       "      <td>2020</td>\n",
       "      <td>07.-09.02.2020</td>\n",
       "      <td>Taipei 48hr Ultra Marathon - 50mi (TPE)</td>\n",
       "      <td>50mi</td>\n",
       "      <td>38</td>\n",
       "      <td>7:43:50 h</td>\n",
       "      <td>NaN</td>\n",
       "      <td>AUS</td>\n",
       "      <td>1974.0</td>\n",
       "      <td>M</td>\n",
       "      <td>M45</td>\n",
       "      <td>10.409</td>\n",
       "      <td>8785</td>\n",
       "    </tr>\n",
       "    <tr>\n",
       "      <th>2538573</th>\n",
       "      <td>2020</td>\n",
       "      <td>07.-09.02.2020</td>\n",
       "      <td>Taipei 48hr Ultra Marathon - 50mi (TPE)</td>\n",
       "      <td>50mi</td>\n",
       "      <td>38</td>\n",
       "      <td>8:04:40 h</td>\n",
       "      <td>NaN</td>\n",
       "      <td>TPE</td>\n",
       "      <td>1976.0</td>\n",
       "      <td>M</td>\n",
       "      <td>M40</td>\n",
       "      <td>9.962</td>\n",
       "      <td>4502</td>\n",
       "    </tr>\n",
       "    <tr>\n",
       "      <th>2538574</th>\n",
       "      <td>2020</td>\n",
       "      <td>07.-09.02.2020</td>\n",
       "      <td>Taipei 48hr Ultra Marathon - 50mi (TPE)</td>\n",
       "      <td>50mi</td>\n",
       "      <td>38</td>\n",
       "      <td>8:30:49 h</td>\n",
       "      <td>台灣大腳ㄚ長跑協會</td>\n",
       "      <td>TPE</td>\n",
       "      <td>1969.0</td>\n",
       "      <td>F</td>\n",
       "      <td>W50</td>\n",
       "      <td>9.452</td>\n",
       "      <td>63964</td>\n",
       "    </tr>\n",
       "    <tr>\n",
       "      <th>2538575</th>\n",
       "      <td>2020</td>\n",
       "      <td>07.-09.02.2020</td>\n",
       "      <td>Taipei 48hr Ultra Marathon - 50mi (TPE)</td>\n",
       "      <td>50mi</td>\n",
       "      <td>38</td>\n",
       "      <td>8:34:47 h</td>\n",
       "      <td>NaN</td>\n",
       "      <td>TPE</td>\n",
       "      <td>1964.0</td>\n",
       "      <td>M</td>\n",
       "      <td>M55</td>\n",
       "      <td>9.379</td>\n",
       "      <td>4485</td>\n",
       "    </tr>\n",
       "    <tr>\n",
       "      <th>...</th>\n",
       "      <td>...</td>\n",
       "      <td>...</td>\n",
       "      <td>...</td>\n",
       "      <td>...</td>\n",
       "      <td>...</td>\n",
       "      <td>...</td>\n",
       "      <td>...</td>\n",
       "      <td>...</td>\n",
       "      <td>...</td>\n",
       "      <td>...</td>\n",
       "      <td>...</td>\n",
       "      <td>...</td>\n",
       "      <td>...</td>\n",
       "    </tr>\n",
       "    <tr>\n",
       "      <th>2762404</th>\n",
       "      <td>2020</td>\n",
       "      <td>03.10.2020</td>\n",
       "      <td>Bison Ultra-Trail 50 (POL)</td>\n",
       "      <td>50km</td>\n",
       "      <td>271</td>\n",
       "      <td>7:36:25 h</td>\n",
       "      <td>AKS Polonia Warszawa</td>\n",
       "      <td>POL</td>\n",
       "      <td>1981.0</td>\n",
       "      <td>F</td>\n",
       "      <td>W35</td>\n",
       "      <td>6.573</td>\n",
       "      <td>860743</td>\n",
       "    </tr>\n",
       "    <tr>\n",
       "      <th>2762405</th>\n",
       "      <td>2020</td>\n",
       "      <td>03.10.2020</td>\n",
       "      <td>Bison Ultra-Trail 50 (POL)</td>\n",
       "      <td>50km</td>\n",
       "      <td>271</td>\n",
       "      <td>7:36:27 h</td>\n",
       "      <td>*Warszawa</td>\n",
       "      <td>POL</td>\n",
       "      <td>1970.0</td>\n",
       "      <td>F</td>\n",
       "      <td>W45</td>\n",
       "      <td>6.572</td>\n",
       "      <td>860744</td>\n",
       "    </tr>\n",
       "    <tr>\n",
       "      <th>2762406</th>\n",
       "      <td>2020</td>\n",
       "      <td>03.10.2020</td>\n",
       "      <td>Bison Ultra-Trail 50 (POL)</td>\n",
       "      <td>50km</td>\n",
       "      <td>271</td>\n",
       "      <td>7:44:18 h</td>\n",
       "      <td>Outdoor Training</td>\n",
       "      <td>POL</td>\n",
       "      <td>1993.0</td>\n",
       "      <td>F</td>\n",
       "      <td>W23</td>\n",
       "      <td>6.461</td>\n",
       "      <td>860745</td>\n",
       "    </tr>\n",
       "    <tr>\n",
       "      <th>2762407</th>\n",
       "      <td>2020</td>\n",
       "      <td>03.10.2020</td>\n",
       "      <td>Bison Ultra-Trail 50 (POL)</td>\n",
       "      <td>50km</td>\n",
       "      <td>271</td>\n",
       "      <td>8:04:50 h</td>\n",
       "      <td>PH Bysewo Gdańsk</td>\n",
       "      <td>POL</td>\n",
       "      <td>1976.0</td>\n",
       "      <td>M</td>\n",
       "      <td>M40</td>\n",
       "      <td>6.188</td>\n",
       "      <td>798409</td>\n",
       "    </tr>\n",
       "    <tr>\n",
       "      <th>2762408</th>\n",
       "      <td>2020</td>\n",
       "      <td>03.10.2020</td>\n",
       "      <td>Bison Ultra-Trail 50 (POL)</td>\n",
       "      <td>50km</td>\n",
       "      <td>271</td>\n",
       "      <td>8:11:43 h</td>\n",
       "      <td>*Nowe Aleksandrowo</td>\n",
       "      <td>POL</td>\n",
       "      <td>1961.0</td>\n",
       "      <td>M</td>\n",
       "      <td>M55</td>\n",
       "      <td>6.101</td>\n",
       "      <td>860746</td>\n",
       "    </tr>\n",
       "  </tbody>\n",
       "</table>\n",
       "<p>63489 rows × 13 columns</p>\n",
       "</div>"
      ],
      "text/plain": [
       "         Year of event     Event dates  \\\n",
       "2538571           2020  07.-09.02.2020   \n",
       "2538572           2020  07.-09.02.2020   \n",
       "2538573           2020  07.-09.02.2020   \n",
       "2538574           2020  07.-09.02.2020   \n",
       "2538575           2020  07.-09.02.2020   \n",
       "...                ...             ...   \n",
       "2762404           2020      03.10.2020   \n",
       "2762405           2020      03.10.2020   \n",
       "2762406           2020      03.10.2020   \n",
       "2762407           2020      03.10.2020   \n",
       "2762408           2020      03.10.2020   \n",
       "\n",
       "                                      Event name Event distance/length  \\\n",
       "2538571  Taipei 48hr Ultra Marathon - 50mi (TPE)                  50mi   \n",
       "2538572  Taipei 48hr Ultra Marathon - 50mi (TPE)                  50mi   \n",
       "2538573  Taipei 48hr Ultra Marathon - 50mi (TPE)                  50mi   \n",
       "2538574  Taipei 48hr Ultra Marathon - 50mi (TPE)                  50mi   \n",
       "2538575  Taipei 48hr Ultra Marathon - 50mi (TPE)                  50mi   \n",
       "...                                          ...                   ...   \n",
       "2762404               Bison Ultra-Trail 50 (POL)                  50km   \n",
       "2762405               Bison Ultra-Trail 50 (POL)                  50km   \n",
       "2762406               Bison Ultra-Trail 50 (POL)                  50km   \n",
       "2762407               Bison Ultra-Trail 50 (POL)                  50km   \n",
       "2762408               Bison Ultra-Trail 50 (POL)                  50km   \n",
       "\n",
       "         Event number of finishers Athlete performance          Athlete club  \\\n",
       "2538571                         38           7:34:19 h                   日本隊   \n",
       "2538572                         38           7:43:50 h                   NaN   \n",
       "2538573                         38           8:04:40 h                   NaN   \n",
       "2538574                         38           8:30:49 h             台灣大腳ㄚ長跑協會   \n",
       "2538575                         38           8:34:47 h                   NaN   \n",
       "...                            ...                 ...                   ...   \n",
       "2762404                        271           7:36:25 h  AKS Polonia Warszawa   \n",
       "2762405                        271           7:36:27 h             *Warszawa   \n",
       "2762406                        271           7:44:18 h      Outdoor Training   \n",
       "2762407                        271           8:04:50 h      PH Bysewo Gdańsk   \n",
       "2762408                        271           8:11:43 h    *Nowe Aleksandrowo   \n",
       "\n",
       "        Athlete country  Athlete year of birth Athlete gender  \\\n",
       "2538571             JPN                 1965.0              M   \n",
       "2538572             AUS                 1974.0              M   \n",
       "2538573             TPE                 1976.0              M   \n",
       "2538574             TPE                 1969.0              F   \n",
       "2538575             TPE                 1964.0              M   \n",
       "...                 ...                    ...            ...   \n",
       "2762404             POL                 1981.0              F   \n",
       "2762405             POL                 1970.0              F   \n",
       "2762406             POL                 1993.0              F   \n",
       "2762407             POL                 1976.0              M   \n",
       "2762408             POL                 1961.0              M   \n",
       "\n",
       "        Athlete age category Athlete average speed  Athlete ID  \n",
       "2538571                  M50                10.627       53107  \n",
       "2538572                  M45                10.409        8785  \n",
       "2538573                  M40                 9.962        4502  \n",
       "2538574                  W50                 9.452       63964  \n",
       "2538575                  M55                 9.379        4485  \n",
       "...                      ...                   ...         ...  \n",
       "2762404                  W35                 6.573      860743  \n",
       "2762405                  W45                 6.572      860744  \n",
       "2762406                  W23                 6.461      860745  \n",
       "2762407                  M40                 6.188      798409  \n",
       "2762408                  M55                 6.101      860746  \n",
       "\n",
       "[63489 rows x 13 columns]"
      ]
     },
     "execution_count": 40,
     "metadata": {},
     "output_type": "execute_result"
    }
   ],
   "source": [
    "df[(df[\"Event distance/length\"].isin(['50km','50mi'])) & (df[\"Year of event\"] == 2020)]"
   ]
  },
  {
   "cell_type": "code",
   "execution_count": 41,
   "id": "279bb848-4681-4eb7-8ae3-76716fe3ff0d",
   "metadata": {},
   "outputs": [
    {
     "data": {
      "text/plain": [
       "51923      USA\n",
       "51924      USA\n",
       "51925      USA\n",
       "51926      USA\n",
       "51927      USA\n",
       "          ... \n",
       "6417091    USA\n",
       "6417092    USA\n",
       "6417093    USA\n",
       "6417094    USA\n",
       "6417095    USA\n",
       "Name: Event name, Length: 338, dtype: object"
      ]
     },
     "execution_count": 41,
     "metadata": {},
     "output_type": "execute_result"
    }
   ],
   "source": [
    "df[df['Event name'] == 'Everglades 50 Mile Ultra Run (USA)']['Event name'].str.split('(').str.get(1).str.split(')').str.get(0)"
   ]
  },
  {
   "cell_type": "code",
   "execution_count": 42,
   "id": "64490144-e733-4585-93d5-2c4523ed0861",
   "metadata": {
    "scrolled": true
   },
   "outputs": [
    {
     "data": {
      "text/html": [
       "<div>\n",
       "<style scoped>\n",
       "    .dataframe tbody tr th:only-of-type {\n",
       "        vertical-align: middle;\n",
       "    }\n",
       "\n",
       "    .dataframe tbody tr th {\n",
       "        vertical-align: top;\n",
       "    }\n",
       "\n",
       "    .dataframe thead th {\n",
       "        text-align: right;\n",
       "    }\n",
       "</style>\n",
       "<table border=\"1\" class=\"dataframe\">\n",
       "  <thead>\n",
       "    <tr style=\"text-align: right;\">\n",
       "      <th></th>\n",
       "      <th>Year of event</th>\n",
       "      <th>Event dates</th>\n",
       "      <th>Event name</th>\n",
       "      <th>Event distance/length</th>\n",
       "      <th>Event number of finishers</th>\n",
       "      <th>Athlete performance</th>\n",
       "      <th>Athlete club</th>\n",
       "      <th>Athlete country</th>\n",
       "      <th>Athlete year of birth</th>\n",
       "      <th>Athlete gender</th>\n",
       "      <th>Athlete age category</th>\n",
       "      <th>Athlete average speed</th>\n",
       "      <th>Athlete ID</th>\n",
       "    </tr>\n",
       "  </thead>\n",
       "  <tbody>\n",
       "    <tr>\n",
       "      <th>55</th>\n",
       "      <td>2018</td>\n",
       "      <td>06.01.2018</td>\n",
       "      <td>Yankee Springs 50 Mile Winter Challenge (USA)</td>\n",
       "      <td>50mi</td>\n",
       "      <td>9</td>\n",
       "      <td>9:53:05 h</td>\n",
       "      <td>*Middleville, MI</td>\n",
       "      <td>USA</td>\n",
       "      <td>1983.0</td>\n",
       "      <td>M</td>\n",
       "      <td>M23</td>\n",
       "      <td>8.141</td>\n",
       "      <td>55</td>\n",
       "    </tr>\n",
       "    <tr>\n",
       "      <th>56</th>\n",
       "      <td>2018</td>\n",
       "      <td>06.01.2018</td>\n",
       "      <td>Yankee Springs 50 Mile Winter Challenge (USA)</td>\n",
       "      <td>50mi</td>\n",
       "      <td>9</td>\n",
       "      <td>11:09:35 h</td>\n",
       "      <td>*Waterloo, ON</td>\n",
       "      <td>CAN</td>\n",
       "      <td>1977.0</td>\n",
       "      <td>F</td>\n",
       "      <td>W40</td>\n",
       "      <td>7.211</td>\n",
       "      <td>56</td>\n",
       "    </tr>\n",
       "    <tr>\n",
       "      <th>57</th>\n",
       "      <td>2018</td>\n",
       "      <td>06.01.2018</td>\n",
       "      <td>Yankee Springs 50 Mile Winter Challenge (USA)</td>\n",
       "      <td>50mi</td>\n",
       "      <td>9</td>\n",
       "      <td>11:33:00 h</td>\n",
       "      <td>*Kitchener, ON</td>\n",
       "      <td>CAN</td>\n",
       "      <td>1976.0</td>\n",
       "      <td>M</td>\n",
       "      <td>M40</td>\n",
       "      <td>6.967</td>\n",
       "      <td>57</td>\n",
       "    </tr>\n",
       "    <tr>\n",
       "      <th>58</th>\n",
       "      <td>2018</td>\n",
       "      <td>06.01.2018</td>\n",
       "      <td>Yankee Springs 50 Mile Winter Challenge (USA)</td>\n",
       "      <td>50mi</td>\n",
       "      <td>9</td>\n",
       "      <td>11:38:17 h</td>\n",
       "      <td>*Utica, MI</td>\n",
       "      <td>USA</td>\n",
       "      <td>1986.0</td>\n",
       "      <td>M</td>\n",
       "      <td>M23</td>\n",
       "      <td>6.914</td>\n",
       "      <td>58</td>\n",
       "    </tr>\n",
       "    <tr>\n",
       "      <th>59</th>\n",
       "      <td>2018</td>\n",
       "      <td>06.01.2018</td>\n",
       "      <td>Yankee Springs 50 Mile Winter Challenge (USA)</td>\n",
       "      <td>50mi</td>\n",
       "      <td>9</td>\n",
       "      <td>11:56:35 h</td>\n",
       "      <td>*Grass Lake, MI</td>\n",
       "      <td>USA</td>\n",
       "      <td>1988.0</td>\n",
       "      <td>M</td>\n",
       "      <td>M23</td>\n",
       "      <td>6.738</td>\n",
       "      <td>59</td>\n",
       "    </tr>\n",
       "    <tr>\n",
       "      <th>...</th>\n",
       "      <td>...</td>\n",
       "      <td>...</td>\n",
       "      <td>...</td>\n",
       "      <td>...</td>\n",
       "      <td>...</td>\n",
       "      <td>...</td>\n",
       "      <td>...</td>\n",
       "      <td>...</td>\n",
       "      <td>...</td>\n",
       "      <td>...</td>\n",
       "      <td>...</td>\n",
       "      <td>...</td>\n",
       "      <td>...</td>\n",
       "    </tr>\n",
       "    <tr>\n",
       "      <th>7461181</th>\n",
       "      <td>1995</td>\n",
       "      <td>07.01.1995</td>\n",
       "      <td>Avalon Benefit 50-Mile Run (USA)</td>\n",
       "      <td>50mi</td>\n",
       "      <td>92</td>\n",
       "      <td>11:59:37 h</td>\n",
       "      <td>NaN</td>\n",
       "      <td>USA</td>\n",
       "      <td>1941.0</td>\n",
       "      <td>M</td>\n",
       "      <td>M50</td>\n",
       "      <td>6709.0</td>\n",
       "      <td>1045603</td>\n",
       "    </tr>\n",
       "    <tr>\n",
       "      <th>7461182</th>\n",
       "      <td>1995</td>\n",
       "      <td>07.01.1995</td>\n",
       "      <td>Avalon Benefit 50-Mile Run (USA)</td>\n",
       "      <td>50mi</td>\n",
       "      <td>92</td>\n",
       "      <td>12:01:41 h</td>\n",
       "      <td>NaN</td>\n",
       "      <td>USA</td>\n",
       "      <td>1932.0</td>\n",
       "      <td>M</td>\n",
       "      <td>M60</td>\n",
       "      <td>6690.0</td>\n",
       "      <td>1070463</td>\n",
       "    </tr>\n",
       "    <tr>\n",
       "      <th>7461183</th>\n",
       "      <td>1995</td>\n",
       "      <td>07.01.1995</td>\n",
       "      <td>Avalon Benefit 50-Mile Run (USA)</td>\n",
       "      <td>50mi</td>\n",
       "      <td>92</td>\n",
       "      <td>12:03:26 h</td>\n",
       "      <td>NaN</td>\n",
       "      <td>USA</td>\n",
       "      <td>1934.0</td>\n",
       "      <td>F</td>\n",
       "      <td>W60</td>\n",
       "      <td>6674.0</td>\n",
       "      <td>416139</td>\n",
       "    </tr>\n",
       "    <tr>\n",
       "      <th>7461184</th>\n",
       "      <td>1995</td>\n",
       "      <td>07.01.1995</td>\n",
       "      <td>Avalon Benefit 50-Mile Run (USA)</td>\n",
       "      <td>50mi</td>\n",
       "      <td>92</td>\n",
       "      <td>12:03:26 h</td>\n",
       "      <td>NaN</td>\n",
       "      <td>USA</td>\n",
       "      <td>1951.0</td>\n",
       "      <td>F</td>\n",
       "      <td>W40</td>\n",
       "      <td>6674.0</td>\n",
       "      <td>1098098</td>\n",
       "    </tr>\n",
       "    <tr>\n",
       "      <th>7461185</th>\n",
       "      <td>1995</td>\n",
       "      <td>07.01.1995</td>\n",
       "      <td>Avalon Benefit 50-Mile Run (USA)</td>\n",
       "      <td>50mi</td>\n",
       "      <td>92</td>\n",
       "      <td>12:05:59 h</td>\n",
       "      <td>NaN</td>\n",
       "      <td>USA</td>\n",
       "      <td>1947.0</td>\n",
       "      <td>F</td>\n",
       "      <td>W45</td>\n",
       "      <td>6650.0</td>\n",
       "      <td>1626367</td>\n",
       "    </tr>\n",
       "  </tbody>\n",
       "</table>\n",
       "<p>1398540 rows × 13 columns</p>\n",
       "</div>"
      ],
      "text/plain": [
       "         Year of event Event dates  \\\n",
       "55                2018  06.01.2018   \n",
       "56                2018  06.01.2018   \n",
       "57                2018  06.01.2018   \n",
       "58                2018  06.01.2018   \n",
       "59                2018  06.01.2018   \n",
       "...                ...         ...   \n",
       "7461181           1995  07.01.1995   \n",
       "7461182           1995  07.01.1995   \n",
       "7461183           1995  07.01.1995   \n",
       "7461184           1995  07.01.1995   \n",
       "7461185           1995  07.01.1995   \n",
       "\n",
       "                                            Event name Event distance/length  \\\n",
       "55       Yankee Springs 50 Mile Winter Challenge (USA)                  50mi   \n",
       "56       Yankee Springs 50 Mile Winter Challenge (USA)                  50mi   \n",
       "57       Yankee Springs 50 Mile Winter Challenge (USA)                  50mi   \n",
       "58       Yankee Springs 50 Mile Winter Challenge (USA)                  50mi   \n",
       "59       Yankee Springs 50 Mile Winter Challenge (USA)                  50mi   \n",
       "...                                                ...                   ...   \n",
       "7461181               Avalon Benefit 50-Mile Run (USA)                  50mi   \n",
       "7461182               Avalon Benefit 50-Mile Run (USA)                  50mi   \n",
       "7461183               Avalon Benefit 50-Mile Run (USA)                  50mi   \n",
       "7461184               Avalon Benefit 50-Mile Run (USA)                  50mi   \n",
       "7461185               Avalon Benefit 50-Mile Run (USA)                  50mi   \n",
       "\n",
       "         Event number of finishers Athlete performance      Athlete club  \\\n",
       "55                               9           9:53:05 h  *Middleville, MI   \n",
       "56                               9          11:09:35 h     *Waterloo, ON   \n",
       "57                               9          11:33:00 h    *Kitchener, ON   \n",
       "58                               9          11:38:17 h        *Utica, MI   \n",
       "59                               9          11:56:35 h   *Grass Lake, MI   \n",
       "...                            ...                 ...               ...   \n",
       "7461181                         92          11:59:37 h               NaN   \n",
       "7461182                         92          12:01:41 h               NaN   \n",
       "7461183                         92          12:03:26 h               NaN   \n",
       "7461184                         92          12:03:26 h               NaN   \n",
       "7461185                         92          12:05:59 h               NaN   \n",
       "\n",
       "        Athlete country  Athlete year of birth Athlete gender  \\\n",
       "55                  USA                 1983.0              M   \n",
       "56                  CAN                 1977.0              F   \n",
       "57                  CAN                 1976.0              M   \n",
       "58                  USA                 1986.0              M   \n",
       "59                  USA                 1988.0              M   \n",
       "...                 ...                    ...            ...   \n",
       "7461181             USA                 1941.0              M   \n",
       "7461182             USA                 1932.0              M   \n",
       "7461183             USA                 1934.0              F   \n",
       "7461184             USA                 1951.0              F   \n",
       "7461185             USA                 1947.0              F   \n",
       "\n",
       "        Athlete age category Athlete average speed  Athlete ID  \n",
       "55                       M23                 8.141          55  \n",
       "56                       W40                 7.211          56  \n",
       "57                       M40                 6.967          57  \n",
       "58                       M23                 6.914          58  \n",
       "59                       M23                 6.738          59  \n",
       "...                      ...                   ...         ...  \n",
       "7461181                  M50                6709.0     1045603  \n",
       "7461182                  M60                6690.0     1070463  \n",
       "7461183                  W60                6674.0      416139  \n",
       "7461184                  W40                6674.0     1098098  \n",
       "7461185                  W45                6650.0     1626367  \n",
       "\n",
       "[1398540 rows x 13 columns]"
      ]
     },
     "execution_count": 42,
     "metadata": {},
     "output_type": "execute_result"
    }
   ],
   "source": [
    "df[df['Event name'].str.split('(').str.get(1).str.split(')').str.get(0) == 'USA']"
   ]
  },
  {
   "cell_type": "markdown",
   "id": "8fc3090c-ee04-4d1e-9974-a26dc0cdc842",
   "metadata": {},
   "source": [
    "Combining all the filters"
   ]
  },
  {
   "cell_type": "code",
   "execution_count": 43,
   "id": "969140cc-d088-4fd8-af95-0dbeb9931f96",
   "metadata": {
    "scrolled": true
   },
   "outputs": [],
   "source": [
    "df2 = df[(df[\"Event distance/length\"].isin(['50km','50mi'])) & (df[\"Year of event\"] == 2020) & (df['Event name'].str.split('(').str.get(1).str.split(')').str.get(0) == 'USA') ]"
   ]
  },
  {
   "cell_type": "code",
   "execution_count": 44,
   "id": "494904e8-4d8f-4767-be74-d1453a9a856b",
   "metadata": {
    "scrolled": true
   },
   "outputs": [
    {
     "data": {
      "text/html": [
       "<div>\n",
       "<style scoped>\n",
       "    .dataframe tbody tr th:only-of-type {\n",
       "        vertical-align: middle;\n",
       "    }\n",
       "\n",
       "    .dataframe tbody tr th {\n",
       "        vertical-align: top;\n",
       "    }\n",
       "\n",
       "    .dataframe thead th {\n",
       "        text-align: right;\n",
       "    }\n",
       "</style>\n",
       "<table border=\"1\" class=\"dataframe\">\n",
       "  <thead>\n",
       "    <tr style=\"text-align: right;\">\n",
       "      <th></th>\n",
       "      <th>Year of event</th>\n",
       "      <th>Event dates</th>\n",
       "      <th>Event name</th>\n",
       "      <th>Event distance/length</th>\n",
       "      <th>Event number of finishers</th>\n",
       "      <th>Athlete performance</th>\n",
       "      <th>Athlete club</th>\n",
       "      <th>Athlete country</th>\n",
       "      <th>Athlete year of birth</th>\n",
       "      <th>Athlete gender</th>\n",
       "      <th>Athlete age category</th>\n",
       "      <th>Athlete average speed</th>\n",
       "      <th>Athlete ID</th>\n",
       "    </tr>\n",
       "  </thead>\n",
       "  <tbody>\n",
       "    <tr>\n",
       "      <th>2539945</th>\n",
       "      <td>2020</td>\n",
       "      <td>02.02.2020</td>\n",
       "      <td>West Seattle Beach Run - Winter Edition (USA)</td>\n",
       "      <td>50km</td>\n",
       "      <td>20</td>\n",
       "      <td>3:17:55 h</td>\n",
       "      <td>*Normandy Park, WA</td>\n",
       "      <td>USA</td>\n",
       "      <td>1991.0</td>\n",
       "      <td>M</td>\n",
       "      <td>M23</td>\n",
       "      <td>15.158</td>\n",
       "      <td>71287</td>\n",
       "    </tr>\n",
       "    <tr>\n",
       "      <th>2539946</th>\n",
       "      <td>2020</td>\n",
       "      <td>02.02.2020</td>\n",
       "      <td>West Seattle Beach Run - Winter Edition (USA)</td>\n",
       "      <td>50km</td>\n",
       "      <td>20</td>\n",
       "      <td>4:02:32 h</td>\n",
       "      <td>*Gold Bar, WA</td>\n",
       "      <td>USA</td>\n",
       "      <td>1981.0</td>\n",
       "      <td>M</td>\n",
       "      <td>M35</td>\n",
       "      <td>12.369</td>\n",
       "      <td>629508</td>\n",
       "    </tr>\n",
       "    <tr>\n",
       "      <th>2539947</th>\n",
       "      <td>2020</td>\n",
       "      <td>02.02.2020</td>\n",
       "      <td>West Seattle Beach Run - Winter Edition (USA)</td>\n",
       "      <td>50km</td>\n",
       "      <td>20</td>\n",
       "      <td>4:07:57 h</td>\n",
       "      <td>*Vashon, WA</td>\n",
       "      <td>USA</td>\n",
       "      <td>1999.0</td>\n",
       "      <td>M</td>\n",
       "      <td>MU23</td>\n",
       "      <td>12.099</td>\n",
       "      <td>64838</td>\n",
       "    </tr>\n",
       "    <tr>\n",
       "      <th>2539948</th>\n",
       "      <td>2020</td>\n",
       "      <td>02.02.2020</td>\n",
       "      <td>West Seattle Beach Run - Winter Edition (USA)</td>\n",
       "      <td>50km</td>\n",
       "      <td>20</td>\n",
       "      <td>4:22:02 h</td>\n",
       "      <td>*Gig Harbor, WA</td>\n",
       "      <td>USA</td>\n",
       "      <td>1983.0</td>\n",
       "      <td>M</td>\n",
       "      <td>M35</td>\n",
       "      <td>11.449</td>\n",
       "      <td>704450</td>\n",
       "    </tr>\n",
       "    <tr>\n",
       "      <th>2539949</th>\n",
       "      <td>2020</td>\n",
       "      <td>02.02.2020</td>\n",
       "      <td>West Seattle Beach Run - Winter Edition (USA)</td>\n",
       "      <td>50km</td>\n",
       "      <td>20</td>\n",
       "      <td>4:27:34 h</td>\n",
       "      <td>*Bainbridge Island, WA</td>\n",
       "      <td>USA</td>\n",
       "      <td>1977.0</td>\n",
       "      <td>M</td>\n",
       "      <td>M40</td>\n",
       "      <td>11.212</td>\n",
       "      <td>810281</td>\n",
       "    </tr>\n",
       "  </tbody>\n",
       "</table>\n",
       "</div>"
      ],
      "text/plain": [
       "         Year of event Event dates  \\\n",
       "2539945           2020  02.02.2020   \n",
       "2539946           2020  02.02.2020   \n",
       "2539947           2020  02.02.2020   \n",
       "2539948           2020  02.02.2020   \n",
       "2539949           2020  02.02.2020   \n",
       "\n",
       "                                            Event name Event distance/length  \\\n",
       "2539945  West Seattle Beach Run - Winter Edition (USA)                  50km   \n",
       "2539946  West Seattle Beach Run - Winter Edition (USA)                  50km   \n",
       "2539947  West Seattle Beach Run - Winter Edition (USA)                  50km   \n",
       "2539948  West Seattle Beach Run - Winter Edition (USA)                  50km   \n",
       "2539949  West Seattle Beach Run - Winter Edition (USA)                  50km   \n",
       "\n",
       "         Event number of finishers Athlete performance  \\\n",
       "2539945                         20           3:17:55 h   \n",
       "2539946                         20           4:02:32 h   \n",
       "2539947                         20           4:07:57 h   \n",
       "2539948                         20           4:22:02 h   \n",
       "2539949                         20           4:27:34 h   \n",
       "\n",
       "                   Athlete club Athlete country  Athlete year of birth  \\\n",
       "2539945      *Normandy Park, WA             USA                 1991.0   \n",
       "2539946           *Gold Bar, WA             USA                 1981.0   \n",
       "2539947             *Vashon, WA             USA                 1999.0   \n",
       "2539948         *Gig Harbor, WA             USA                 1983.0   \n",
       "2539949  *Bainbridge Island, WA             USA                 1977.0   \n",
       "\n",
       "        Athlete gender Athlete age category Athlete average speed  Athlete ID  \n",
       "2539945              M                  M23                15.158       71287  \n",
       "2539946              M                  M35                12.369      629508  \n",
       "2539947              M                 MU23                12.099       64838  \n",
       "2539948              M                  M35                11.449      704450  \n",
       "2539949              M                  M40                11.212      810281  "
      ]
     },
     "execution_count": 44,
     "metadata": {},
     "output_type": "execute_result"
    }
   ],
   "source": [
    "df2.head()"
   ]
  },
  {
   "cell_type": "code",
   "execution_count": 45,
   "id": "e69afdec-f787-4adf-a9a6-264d201b6e70",
   "metadata": {},
   "outputs": [
    {
     "data": {
      "text/plain": [
       "(26090, 13)"
      ]
     },
     "execution_count": 45,
     "metadata": {},
     "output_type": "execute_result"
    }
   ],
   "source": [
    "df2.shape"
   ]
  },
  {
   "cell_type": "markdown",
   "id": "acd69e6b-9d6d-4a4e-b59a-e128624d055c",
   "metadata": {},
   "source": [
    "Removing (USA) from event names"
   ]
  },
  {
   "cell_type": "code",
   "execution_count": 46,
   "id": "50f6ddc5-2113-4397-b827-a1ce6646f8f9",
   "metadata": {},
   "outputs": [
    {
     "data": {
      "text/plain": [
       "2539945    West Seattle Beach Run - Winter Edition \n",
       "2539946    West Seattle Beach Run - Winter Edition \n",
       "2539947    West Seattle Beach Run - Winter Edition \n",
       "2539948    West Seattle Beach Run - Winter Edition \n",
       "2539949    West Seattle Beach Run - Winter Edition \n",
       "                             ...                   \n",
       "2760957     Yankee Springs Fall Trail Run Festival \n",
       "2760958     Yankee Springs Fall Trail Run Festival \n",
       "2760959     Yankee Springs Fall Trail Run Festival \n",
       "2760960     Yankee Springs Fall Trail Run Festival \n",
       "2760961     Yankee Springs Fall Trail Run Festival \n",
       "Name: Event name, Length: 26090, dtype: object"
      ]
     },
     "execution_count": 46,
     "metadata": {},
     "output_type": "execute_result"
    }
   ],
   "source": [
    "df2['Event name'].str.split('(').str.get(0)"
   ]
  },
  {
   "cell_type": "code",
   "execution_count": 47,
   "id": "f993b6fd-8f0f-42f9-9cad-d84755f886cc",
   "metadata": {},
   "outputs": [
    {
     "name": "stderr",
     "output_type": "stream",
     "text": [
      "/var/folders/5s/1f83cnkn01q78m45bb0shgyc0000gn/T/ipykernel_35468/3473829760.py:1: SettingWithCopyWarning: \n",
      "A value is trying to be set on a copy of a slice from a DataFrame.\n",
      "Try using .loc[row_indexer,col_indexer] = value instead\n",
      "\n",
      "See the caveats in the documentation: https://pandas.pydata.org/pandas-docs/stable/user_guide/indexing.html#returning-a-view-versus-a-copy\n",
      "  df2['Event name'] = df2['Event name'].str.split('(').str.get(0)\n"
     ]
    }
   ],
   "source": [
    "df2['Event name'] = df2['Event name'].str.split('(').str.get(0)"
   ]
  },
  {
   "cell_type": "code",
   "execution_count": 48,
   "id": "5739c289-6237-4ecb-8c60-eada42f99778",
   "metadata": {
    "scrolled": true
   },
   "outputs": [
    {
     "data": {
      "text/html": [
       "<div>\n",
       "<style scoped>\n",
       "    .dataframe tbody tr th:only-of-type {\n",
       "        vertical-align: middle;\n",
       "    }\n",
       "\n",
       "    .dataframe tbody tr th {\n",
       "        vertical-align: top;\n",
       "    }\n",
       "\n",
       "    .dataframe thead th {\n",
       "        text-align: right;\n",
       "    }\n",
       "</style>\n",
       "<table border=\"1\" class=\"dataframe\">\n",
       "  <thead>\n",
       "    <tr style=\"text-align: right;\">\n",
       "      <th></th>\n",
       "      <th>Year of event</th>\n",
       "      <th>Event dates</th>\n",
       "      <th>Event name</th>\n",
       "      <th>Event distance/length</th>\n",
       "      <th>Event number of finishers</th>\n",
       "      <th>Athlete performance</th>\n",
       "      <th>Athlete club</th>\n",
       "      <th>Athlete country</th>\n",
       "      <th>Athlete year of birth</th>\n",
       "      <th>Athlete gender</th>\n",
       "      <th>Athlete age category</th>\n",
       "      <th>Athlete average speed</th>\n",
       "      <th>Athlete ID</th>\n",
       "    </tr>\n",
       "  </thead>\n",
       "  <tbody>\n",
       "    <tr>\n",
       "      <th>2539945</th>\n",
       "      <td>2020</td>\n",
       "      <td>02.02.2020</td>\n",
       "      <td>West Seattle Beach Run - Winter Edition</td>\n",
       "      <td>50km</td>\n",
       "      <td>20</td>\n",
       "      <td>3:17:55 h</td>\n",
       "      <td>*Normandy Park, WA</td>\n",
       "      <td>USA</td>\n",
       "      <td>1991.0</td>\n",
       "      <td>M</td>\n",
       "      <td>M23</td>\n",
       "      <td>15.158</td>\n",
       "      <td>71287</td>\n",
       "    </tr>\n",
       "    <tr>\n",
       "      <th>2539946</th>\n",
       "      <td>2020</td>\n",
       "      <td>02.02.2020</td>\n",
       "      <td>West Seattle Beach Run - Winter Edition</td>\n",
       "      <td>50km</td>\n",
       "      <td>20</td>\n",
       "      <td>4:02:32 h</td>\n",
       "      <td>*Gold Bar, WA</td>\n",
       "      <td>USA</td>\n",
       "      <td>1981.0</td>\n",
       "      <td>M</td>\n",
       "      <td>M35</td>\n",
       "      <td>12.369</td>\n",
       "      <td>629508</td>\n",
       "    </tr>\n",
       "    <tr>\n",
       "      <th>2539947</th>\n",
       "      <td>2020</td>\n",
       "      <td>02.02.2020</td>\n",
       "      <td>West Seattle Beach Run - Winter Edition</td>\n",
       "      <td>50km</td>\n",
       "      <td>20</td>\n",
       "      <td>4:07:57 h</td>\n",
       "      <td>*Vashon, WA</td>\n",
       "      <td>USA</td>\n",
       "      <td>1999.0</td>\n",
       "      <td>M</td>\n",
       "      <td>MU23</td>\n",
       "      <td>12.099</td>\n",
       "      <td>64838</td>\n",
       "    </tr>\n",
       "    <tr>\n",
       "      <th>2539948</th>\n",
       "      <td>2020</td>\n",
       "      <td>02.02.2020</td>\n",
       "      <td>West Seattle Beach Run - Winter Edition</td>\n",
       "      <td>50km</td>\n",
       "      <td>20</td>\n",
       "      <td>4:22:02 h</td>\n",
       "      <td>*Gig Harbor, WA</td>\n",
       "      <td>USA</td>\n",
       "      <td>1983.0</td>\n",
       "      <td>M</td>\n",
       "      <td>M35</td>\n",
       "      <td>11.449</td>\n",
       "      <td>704450</td>\n",
       "    </tr>\n",
       "    <tr>\n",
       "      <th>2539949</th>\n",
       "      <td>2020</td>\n",
       "      <td>02.02.2020</td>\n",
       "      <td>West Seattle Beach Run - Winter Edition</td>\n",
       "      <td>50km</td>\n",
       "      <td>20</td>\n",
       "      <td>4:27:34 h</td>\n",
       "      <td>*Bainbridge Island, WA</td>\n",
       "      <td>USA</td>\n",
       "      <td>1977.0</td>\n",
       "      <td>M</td>\n",
       "      <td>M40</td>\n",
       "      <td>11.212</td>\n",
       "      <td>810281</td>\n",
       "    </tr>\n",
       "  </tbody>\n",
       "</table>\n",
       "</div>"
      ],
      "text/plain": [
       "         Year of event Event dates                                Event name  \\\n",
       "2539945           2020  02.02.2020  West Seattle Beach Run - Winter Edition    \n",
       "2539946           2020  02.02.2020  West Seattle Beach Run - Winter Edition    \n",
       "2539947           2020  02.02.2020  West Seattle Beach Run - Winter Edition    \n",
       "2539948           2020  02.02.2020  West Seattle Beach Run - Winter Edition    \n",
       "2539949           2020  02.02.2020  West Seattle Beach Run - Winter Edition    \n",
       "\n",
       "        Event distance/length  Event number of finishers Athlete performance  \\\n",
       "2539945                  50km                         20           3:17:55 h   \n",
       "2539946                  50km                         20           4:02:32 h   \n",
       "2539947                  50km                         20           4:07:57 h   \n",
       "2539948                  50km                         20           4:22:02 h   \n",
       "2539949                  50km                         20           4:27:34 h   \n",
       "\n",
       "                   Athlete club Athlete country  Athlete year of birth  \\\n",
       "2539945      *Normandy Park, WA             USA                 1991.0   \n",
       "2539946           *Gold Bar, WA             USA                 1981.0   \n",
       "2539947             *Vashon, WA             USA                 1999.0   \n",
       "2539948         *Gig Harbor, WA             USA                 1983.0   \n",
       "2539949  *Bainbridge Island, WA             USA                 1977.0   \n",
       "\n",
       "        Athlete gender Athlete age category Athlete average speed  Athlete ID  \n",
       "2539945              M                  M23                15.158       71287  \n",
       "2539946              M                  M35                12.369      629508  \n",
       "2539947              M                 MU23                12.099       64838  \n",
       "2539948              M                  M35                11.449      704450  \n",
       "2539949              M                  M40                11.212      810281  "
      ]
     },
     "execution_count": 48,
     "metadata": {},
     "output_type": "execute_result"
    }
   ],
   "source": [
    "df2.head()"
   ]
  },
  {
   "cell_type": "markdown",
   "id": "5adab9bb-5f31-4d61-ae55-e642e0e9d772",
   "metadata": {},
   "source": [
    "#Cleaning Athlete Age"
   ]
  },
  {
   "cell_type": "code",
   "execution_count": 49,
   "id": "c7a9adff-c72a-4149-adbd-60f75add61f1",
   "metadata": {},
   "outputs": [
    {
     "name": "stderr",
     "output_type": "stream",
     "text": [
      "/var/folders/5s/1f83cnkn01q78m45bb0shgyc0000gn/T/ipykernel_35468/3897931444.py:1: SettingWithCopyWarning: \n",
      "A value is trying to be set on a copy of a slice from a DataFrame.\n",
      "Try using .loc[row_indexer,col_indexer] = value instead\n",
      "\n",
      "See the caveats in the documentation: https://pandas.pydata.org/pandas-docs/stable/user_guide/indexing.html#returning-a-view-versus-a-copy\n",
      "  df2['athlete_age'] = 2020 - df2['Athlete year of birth']\n"
     ]
    }
   ],
   "source": [
    "df2['athlete_age'] = 2020 - df2['Athlete year of birth']"
   ]
  },
  {
   "cell_type": "code",
   "execution_count": 50,
   "id": "e776324c-da2e-487c-b7dc-34581c1bae85",
   "metadata": {},
   "outputs": [
    {
     "name": "stderr",
     "output_type": "stream",
     "text": [
      "/var/folders/5s/1f83cnkn01q78m45bb0shgyc0000gn/T/ipykernel_35468/2439908443.py:1: SettingWithCopyWarning: \n",
      "A value is trying to be set on a copy of a slice from a DataFrame.\n",
      "Try using .loc[row_indexer,col_indexer] = value instead\n",
      "\n",
      "See the caveats in the documentation: https://pandas.pydata.org/pandas-docs/stable/user_guide/indexing.html#returning-a-view-versus-a-copy\n",
      "  df2['Athlete performance'] = df2['Athlete performance'].str.split('h').str.get(0)\n"
     ]
    }
   ],
   "source": [
    "df2['Athlete performance'] = df2['Athlete performance'].str.split('h').str.get(0)"
   ]
  },
  {
   "cell_type": "code",
   "execution_count": 51,
   "id": "84fbc5e4-30e1-4814-bfbd-37e6c2245791",
   "metadata": {},
   "outputs": [
    {
     "data": {
      "text/html": [
       "<div>\n",
       "<style scoped>\n",
       "    .dataframe tbody tr th:only-of-type {\n",
       "        vertical-align: middle;\n",
       "    }\n",
       "\n",
       "    .dataframe tbody tr th {\n",
       "        vertical-align: top;\n",
       "    }\n",
       "\n",
       "    .dataframe thead th {\n",
       "        text-align: right;\n",
       "    }\n",
       "</style>\n",
       "<table border=\"1\" class=\"dataframe\">\n",
       "  <thead>\n",
       "    <tr style=\"text-align: right;\">\n",
       "      <th></th>\n",
       "      <th>Year of event</th>\n",
       "      <th>Event dates</th>\n",
       "      <th>Event name</th>\n",
       "      <th>Event distance/length</th>\n",
       "      <th>Event number of finishers</th>\n",
       "      <th>Athlete performance</th>\n",
       "      <th>Athlete club</th>\n",
       "      <th>Athlete country</th>\n",
       "      <th>Athlete year of birth</th>\n",
       "      <th>Athlete gender</th>\n",
       "      <th>Athlete age category</th>\n",
       "      <th>Athlete average speed</th>\n",
       "      <th>Athlete ID</th>\n",
       "      <th>athlete_age</th>\n",
       "    </tr>\n",
       "  </thead>\n",
       "  <tbody>\n",
       "    <tr>\n",
       "      <th>2539945</th>\n",
       "      <td>2020</td>\n",
       "      <td>02.02.2020</td>\n",
       "      <td>West Seattle Beach Run - Winter Edition</td>\n",
       "      <td>50km</td>\n",
       "      <td>20</td>\n",
       "      <td>3:17:55</td>\n",
       "      <td>*Normandy Park, WA</td>\n",
       "      <td>USA</td>\n",
       "      <td>1991.0</td>\n",
       "      <td>M</td>\n",
       "      <td>M23</td>\n",
       "      <td>15.158</td>\n",
       "      <td>71287</td>\n",
       "      <td>29.0</td>\n",
       "    </tr>\n",
       "    <tr>\n",
       "      <th>2539946</th>\n",
       "      <td>2020</td>\n",
       "      <td>02.02.2020</td>\n",
       "      <td>West Seattle Beach Run - Winter Edition</td>\n",
       "      <td>50km</td>\n",
       "      <td>20</td>\n",
       "      <td>4:02:32</td>\n",
       "      <td>*Gold Bar, WA</td>\n",
       "      <td>USA</td>\n",
       "      <td>1981.0</td>\n",
       "      <td>M</td>\n",
       "      <td>M35</td>\n",
       "      <td>12.369</td>\n",
       "      <td>629508</td>\n",
       "      <td>39.0</td>\n",
       "    </tr>\n",
       "  </tbody>\n",
       "</table>\n",
       "</div>"
      ],
      "text/plain": [
       "         Year of event Event dates                                Event name  \\\n",
       "2539945           2020  02.02.2020  West Seattle Beach Run - Winter Edition    \n",
       "2539946           2020  02.02.2020  West Seattle Beach Run - Winter Edition    \n",
       "\n",
       "        Event distance/length  Event number of finishers Athlete performance  \\\n",
       "2539945                  50km                         20            3:17:55    \n",
       "2539946                  50km                         20            4:02:32    \n",
       "\n",
       "               Athlete club Athlete country  Athlete year of birth  \\\n",
       "2539945  *Normandy Park, WA             USA                 1991.0   \n",
       "2539946       *Gold Bar, WA             USA                 1981.0   \n",
       "\n",
       "        Athlete gender Athlete age category Athlete average speed  Athlete ID  \\\n",
       "2539945              M                  M23                15.158       71287   \n",
       "2539946              M                  M35                12.369      629508   \n",
       "\n",
       "         athlete_age  \n",
       "2539945         29.0  \n",
       "2539946         39.0  "
      ]
     },
     "execution_count": 51,
     "metadata": {},
     "output_type": "execute_result"
    }
   ],
   "source": [
    "df2.head(2)"
   ]
  },
  {
   "cell_type": "markdown",
   "id": "3ac3352e-847e-472a-811d-75780d7ce513",
   "metadata": {},
   "source": [
    "#Dropping columns"
   ]
  },
  {
   "cell_type": "code",
   "execution_count": 52,
   "id": "de71157e-7c1a-4a0c-9fc2-e5a52e46c650",
   "metadata": {},
   "outputs": [],
   "source": [
    "df2 = df2.drop(['Athlete club','Athlete country','Athlete year of birth','Athlete age category'], axis = 1)"
   ]
  },
  {
   "cell_type": "code",
   "execution_count": 53,
   "id": "d613678d-c5a8-47f8-9da2-99df3ac40a72",
   "metadata": {},
   "outputs": [
    {
     "data": {
      "text/html": [
       "<div>\n",
       "<style scoped>\n",
       "    .dataframe tbody tr th:only-of-type {\n",
       "        vertical-align: middle;\n",
       "    }\n",
       "\n",
       "    .dataframe tbody tr th {\n",
       "        vertical-align: top;\n",
       "    }\n",
       "\n",
       "    .dataframe thead th {\n",
       "        text-align: right;\n",
       "    }\n",
       "</style>\n",
       "<table border=\"1\" class=\"dataframe\">\n",
       "  <thead>\n",
       "    <tr style=\"text-align: right;\">\n",
       "      <th></th>\n",
       "      <th>Year of event</th>\n",
       "      <th>Event dates</th>\n",
       "      <th>Event name</th>\n",
       "      <th>Event distance/length</th>\n",
       "      <th>Event number of finishers</th>\n",
       "      <th>Athlete performance</th>\n",
       "      <th>Athlete gender</th>\n",
       "      <th>Athlete average speed</th>\n",
       "      <th>Athlete ID</th>\n",
       "      <th>athlete_age</th>\n",
       "    </tr>\n",
       "  </thead>\n",
       "  <tbody>\n",
       "    <tr>\n",
       "      <th>2539945</th>\n",
       "      <td>2020</td>\n",
       "      <td>02.02.2020</td>\n",
       "      <td>West Seattle Beach Run - Winter Edition</td>\n",
       "      <td>50km</td>\n",
       "      <td>20</td>\n",
       "      <td>3:17:55</td>\n",
       "      <td>M</td>\n",
       "      <td>15.158</td>\n",
       "      <td>71287</td>\n",
       "      <td>29.0</td>\n",
       "    </tr>\n",
       "    <tr>\n",
       "      <th>2539946</th>\n",
       "      <td>2020</td>\n",
       "      <td>02.02.2020</td>\n",
       "      <td>West Seattle Beach Run - Winter Edition</td>\n",
       "      <td>50km</td>\n",
       "      <td>20</td>\n",
       "      <td>4:02:32</td>\n",
       "      <td>M</td>\n",
       "      <td>12.369</td>\n",
       "      <td>629508</td>\n",
       "      <td>39.0</td>\n",
       "    </tr>\n",
       "  </tbody>\n",
       "</table>\n",
       "</div>"
      ],
      "text/plain": [
       "         Year of event Event dates                                Event name  \\\n",
       "2539945           2020  02.02.2020  West Seattle Beach Run - Winter Edition    \n",
       "2539946           2020  02.02.2020  West Seattle Beach Run - Winter Edition    \n",
       "\n",
       "        Event distance/length  Event number of finishers Athlete performance  \\\n",
       "2539945                  50km                         20            3:17:55    \n",
       "2539946                  50km                         20            4:02:32    \n",
       "\n",
       "        Athlete gender Athlete average speed  Athlete ID  athlete_age  \n",
       "2539945              M                15.158       71287         29.0  \n",
       "2539946              M                12.369      629508         39.0  "
      ]
     },
     "execution_count": 53,
     "metadata": {},
     "output_type": "execute_result"
    }
   ],
   "source": [
    "df2.head(2)"
   ]
  },
  {
   "cell_type": "markdown",
   "id": "144acee3-9760-4eab-a2ab-db68b8ede618",
   "metadata": {},
   "source": [
    "#Cleaning null values"
   ]
  },
  {
   "cell_type": "code",
   "execution_count": 54,
   "id": "c2057ad6-af63-4ec0-aa19-16582aa2cf85",
   "metadata": {},
   "outputs": [
    {
     "data": {
      "text/plain": [
       "Year of event                  0\n",
       "Event dates                    0\n",
       "Event name                     0\n",
       "Event distance/length          0\n",
       "Event number of finishers      0\n",
       "Athlete performance            0\n",
       "Athlete gender                 0\n",
       "Athlete average speed          0\n",
       "Athlete ID                     0\n",
       "athlete_age                  233\n",
       "dtype: int64"
      ]
     },
     "execution_count": 54,
     "metadata": {},
     "output_type": "execute_result"
    }
   ],
   "source": [
    "df2.isna().sum()"
   ]
  },
  {
   "cell_type": "code",
   "execution_count": 55,
   "id": "15225967-6268-471d-a606-0f7d905e234d",
   "metadata": {},
   "outputs": [],
   "source": [
    "df2 = df2.dropna()"
   ]
  },
  {
   "cell_type": "code",
   "execution_count": 56,
   "id": "242ffe4f-5d96-407c-9755-b49b5b9db936",
   "metadata": {},
   "outputs": [
    {
     "data": {
      "text/plain": [
       "Year of event                0\n",
       "Event dates                  0\n",
       "Event name                   0\n",
       "Event distance/length        0\n",
       "Event number of finishers    0\n",
       "Athlete performance          0\n",
       "Athlete gender               0\n",
       "Athlete average speed        0\n",
       "Athlete ID                   0\n",
       "athlete_age                  0\n",
       "dtype: int64"
      ]
     },
     "execution_count": 56,
     "metadata": {},
     "output_type": "execute_result"
    }
   ],
   "source": [
    "df2.isna().sum()"
   ]
  },
  {
   "cell_type": "markdown",
   "id": "38a31afc-bed1-45a5-bee1-3e30dbde44f8",
   "metadata": {},
   "source": [
    "#Checking duplicate values"
   ]
  },
  {
   "cell_type": "code",
   "execution_count": 57,
   "id": "43d44a7e-855f-4e78-b741-6a4c8b5512fe",
   "metadata": {},
   "outputs": [
    {
     "data": {
      "text/html": [
       "<div>\n",
       "<style scoped>\n",
       "    .dataframe tbody tr th:only-of-type {\n",
       "        vertical-align: middle;\n",
       "    }\n",
       "\n",
       "    .dataframe tbody tr th {\n",
       "        vertical-align: top;\n",
       "    }\n",
       "\n",
       "    .dataframe thead th {\n",
       "        text-align: right;\n",
       "    }\n",
       "</style>\n",
       "<table border=\"1\" class=\"dataframe\">\n",
       "  <thead>\n",
       "    <tr style=\"text-align: right;\">\n",
       "      <th></th>\n",
       "      <th>Year of event</th>\n",
       "      <th>Event dates</th>\n",
       "      <th>Event name</th>\n",
       "      <th>Event distance/length</th>\n",
       "      <th>Event number of finishers</th>\n",
       "      <th>Athlete performance</th>\n",
       "      <th>Athlete gender</th>\n",
       "      <th>Athlete average speed</th>\n",
       "      <th>Athlete ID</th>\n",
       "      <th>athlete_age</th>\n",
       "    </tr>\n",
       "  </thead>\n",
       "  <tbody>\n",
       "  </tbody>\n",
       "</table>\n",
       "</div>"
      ],
      "text/plain": [
       "Empty DataFrame\n",
       "Columns: [Year of event, Event dates, Event name, Event distance/length, Event number of finishers, Athlete performance, Athlete gender, Athlete average speed, Athlete ID, athlete_age]\n",
       "Index: []"
      ]
     },
     "execution_count": 57,
     "metadata": {},
     "output_type": "execute_result"
    }
   ],
   "source": [
    "df2[df2.duplicated()==True]"
   ]
  },
  {
   "cell_type": "markdown",
   "id": "165c06b3-078d-4a8d-86aa-6316c6e17983",
   "metadata": {},
   "source": [
    "#reset index"
   ]
  },
  {
   "cell_type": "code",
   "execution_count": 58,
   "id": "90ef4ccc-d051-45e6-89f4-78fb7b747492",
   "metadata": {},
   "outputs": [
    {
     "data": {
      "text/html": [
       "<div>\n",
       "<style scoped>\n",
       "    .dataframe tbody tr th:only-of-type {\n",
       "        vertical-align: middle;\n",
       "    }\n",
       "\n",
       "    .dataframe tbody tr th {\n",
       "        vertical-align: top;\n",
       "    }\n",
       "\n",
       "    .dataframe thead th {\n",
       "        text-align: right;\n",
       "    }\n",
       "</style>\n",
       "<table border=\"1\" class=\"dataframe\">\n",
       "  <thead>\n",
       "    <tr style=\"text-align: right;\">\n",
       "      <th></th>\n",
       "      <th>Year of event</th>\n",
       "      <th>Event dates</th>\n",
       "      <th>Event name</th>\n",
       "      <th>Event distance/length</th>\n",
       "      <th>Event number of finishers</th>\n",
       "      <th>Athlete performance</th>\n",
       "      <th>Athlete gender</th>\n",
       "      <th>Athlete average speed</th>\n",
       "      <th>Athlete ID</th>\n",
       "      <th>athlete_age</th>\n",
       "    </tr>\n",
       "  </thead>\n",
       "  <tbody>\n",
       "    <tr>\n",
       "      <th>2539945</th>\n",
       "      <td>2020</td>\n",
       "      <td>02.02.2020</td>\n",
       "      <td>West Seattle Beach Run - Winter Edition</td>\n",
       "      <td>50km</td>\n",
       "      <td>20</td>\n",
       "      <td>3:17:55</td>\n",
       "      <td>M</td>\n",
       "      <td>15.158</td>\n",
       "      <td>71287</td>\n",
       "      <td>29.0</td>\n",
       "    </tr>\n",
       "    <tr>\n",
       "      <th>2539946</th>\n",
       "      <td>2020</td>\n",
       "      <td>02.02.2020</td>\n",
       "      <td>West Seattle Beach Run - Winter Edition</td>\n",
       "      <td>50km</td>\n",
       "      <td>20</td>\n",
       "      <td>4:02:32</td>\n",
       "      <td>M</td>\n",
       "      <td>12.369</td>\n",
       "      <td>629508</td>\n",
       "      <td>39.0</td>\n",
       "    </tr>\n",
       "  </tbody>\n",
       "</table>\n",
       "</div>"
      ],
      "text/plain": [
       "         Year of event Event dates                                Event name  \\\n",
       "2539945           2020  02.02.2020  West Seattle Beach Run - Winter Edition    \n",
       "2539946           2020  02.02.2020  West Seattle Beach Run - Winter Edition    \n",
       "\n",
       "        Event distance/length  Event number of finishers Athlete performance  \\\n",
       "2539945                  50km                         20            3:17:55    \n",
       "2539946                  50km                         20            4:02:32    \n",
       "\n",
       "        Athlete gender Athlete average speed  Athlete ID  athlete_age  \n",
       "2539945              M                15.158       71287         29.0  \n",
       "2539946              M                12.369      629508         39.0  "
      ]
     },
     "execution_count": 58,
     "metadata": {},
     "output_type": "execute_result"
    }
   ],
   "source": [
    "df2.head(2)"
   ]
  },
  {
   "cell_type": "code",
   "execution_count": 59,
   "id": "a37e3623-6228-4a28-9841-ee7a7bf0943b",
   "metadata": {},
   "outputs": [],
   "source": [
    "df2 = df2.reset_index(drop = True)"
   ]
  },
  {
   "cell_type": "markdown",
   "id": "ca5b18e6-1b16-4011-aa10-b6bf5c33d333",
   "metadata": {},
   "source": [
    "#Fix types"
   ]
  },
  {
   "cell_type": "code",
   "execution_count": 60,
   "id": "1745cc3b-66ba-4230-ba83-a1e20e1022b5",
   "metadata": {},
   "outputs": [
    {
     "data": {
      "text/plain": [
       "Year of event                  int64\n",
       "Event dates                   object\n",
       "Event name                    object\n",
       "Event distance/length         object\n",
       "Event number of finishers      int64\n",
       "Athlete performance           object\n",
       "Athlete gender                object\n",
       "Athlete average speed         object\n",
       "Athlete ID                     int64\n",
       "athlete_age                  float64\n",
       "dtype: object"
      ]
     },
     "execution_count": 60,
     "metadata": {},
     "output_type": "execute_result"
    }
   ],
   "source": [
    "df2.dtypes"
   ]
  },
  {
   "cell_type": "code",
   "execution_count": 61,
   "id": "ddb9633e-b03b-4c5f-8bd9-4505ec644a83",
   "metadata": {},
   "outputs": [],
   "source": [
    "df2['athlete_age'] = df2['athlete_age'].astype(int)"
   ]
  },
  {
   "cell_type": "code",
   "execution_count": 62,
   "id": "89504ba9-fae1-4176-b9d3-1f5ccaa131dc",
   "metadata": {},
   "outputs": [],
   "source": [
    "df2['Athlete average speed'] = df2['Athlete average speed'].astype(float)"
   ]
  },
  {
   "cell_type": "code",
   "execution_count": 63,
   "id": "cb94c9b4-7e74-4869-933f-070b5ed52f07",
   "metadata": {},
   "outputs": [
    {
     "data": {
      "text/plain": [
       "Year of event                  int64\n",
       "Event dates                   object\n",
       "Event name                    object\n",
       "Event distance/length         object\n",
       "Event number of finishers      int64\n",
       "Athlete performance           object\n",
       "Athlete gender                object\n",
       "Athlete average speed        float64\n",
       "Athlete ID                     int64\n",
       "athlete_age                    int64\n",
       "dtype: object"
      ]
     },
     "execution_count": 63,
     "metadata": {},
     "output_type": "execute_result"
    }
   ],
   "source": [
    "df2.dtypes"
   ]
  },
  {
   "cell_type": "code",
   "execution_count": 64,
   "id": "e18c4ca2-b49a-4416-b06b-b440aa5f32a0",
   "metadata": {},
   "outputs": [],
   "source": [
    "#Rename Columns\n",
    "\n",
    "#Year of event                  int64\n",
    "#Event dates                   object\n",
    "#Event name                    object\n",
    "#Event distance/length         object\n",
    "#Event number of finishers      int64\n",
    "#Athlete performance           object\n",
    "#Athlete gender                object\n",
    "#Athlete average speed        float64\n",
    "#Athlete ID                     int64\n",
    "#athelete_age                   int64\n",
    "#dtype: object"
   ]
  },
  {
   "cell_type": "code",
   "execution_count": 65,
   "id": "4502258c-dfa5-4c5b-bacd-e287185f7094",
   "metadata": {},
   "outputs": [],
   "source": [
    "df2 = df2.rename(columns = { 'Year of event':'year',\n",
    "                             'Event dates':'race_day',                   \n",
    "                             'Event name':'race_name',                \n",
    "                             'Event distance/length':'race_length', \n",
    "                             'Event number of finishers':'race_number_of_finishers',  \n",
    "                             'Athlete performance':'athlete_performance',  \n",
    "                             'Athlete gender':'athlete_gender',    \n",
    "                             'Athlete average speed':'athlete_average_speed',  \n",
    "                             'Athlete ID':'athlete_id'      \n",
    "                           })\n",
    "\n",
    "\n",
    "\n",
    "\n",
    "\n",
    "    "
   ]
  },
  {
   "cell_type": "code",
   "execution_count": 66,
   "id": "63b3b583-29f2-467b-9b81-172ad18469a0",
   "metadata": {},
   "outputs": [
    {
     "data": {
      "text/html": [
       "<div>\n",
       "<style scoped>\n",
       "    .dataframe tbody tr th:only-of-type {\n",
       "        vertical-align: middle;\n",
       "    }\n",
       "\n",
       "    .dataframe tbody tr th {\n",
       "        vertical-align: top;\n",
       "    }\n",
       "\n",
       "    .dataframe thead th {\n",
       "        text-align: right;\n",
       "    }\n",
       "</style>\n",
       "<table border=\"1\" class=\"dataframe\">\n",
       "  <thead>\n",
       "    <tr style=\"text-align: right;\">\n",
       "      <th></th>\n",
       "      <th>year</th>\n",
       "      <th>race_day</th>\n",
       "      <th>race_name</th>\n",
       "      <th>race_length</th>\n",
       "      <th>race_number_of_finishers</th>\n",
       "      <th>athlete_performance</th>\n",
       "      <th>athlete_gender</th>\n",
       "      <th>athlete_average_speed</th>\n",
       "      <th>athlete_id</th>\n",
       "      <th>athlete_age</th>\n",
       "    </tr>\n",
       "  </thead>\n",
       "  <tbody>\n",
       "    <tr>\n",
       "      <th>0</th>\n",
       "      <td>2020</td>\n",
       "      <td>02.02.2020</td>\n",
       "      <td>West Seattle Beach Run - Winter Edition</td>\n",
       "      <td>50km</td>\n",
       "      <td>20</td>\n",
       "      <td>3:17:55</td>\n",
       "      <td>M</td>\n",
       "      <td>15.158</td>\n",
       "      <td>71287</td>\n",
       "      <td>29</td>\n",
       "    </tr>\n",
       "    <tr>\n",
       "      <th>1</th>\n",
       "      <td>2020</td>\n",
       "      <td>02.02.2020</td>\n",
       "      <td>West Seattle Beach Run - Winter Edition</td>\n",
       "      <td>50km</td>\n",
       "      <td>20</td>\n",
       "      <td>4:02:32</td>\n",
       "      <td>M</td>\n",
       "      <td>12.369</td>\n",
       "      <td>629508</td>\n",
       "      <td>39</td>\n",
       "    </tr>\n",
       "  </tbody>\n",
       "</table>\n",
       "</div>"
      ],
      "text/plain": [
       "   year    race_day                                 race_name race_length  \\\n",
       "0  2020  02.02.2020  West Seattle Beach Run - Winter Edition         50km   \n",
       "1  2020  02.02.2020  West Seattle Beach Run - Winter Edition         50km   \n",
       "\n",
       "   race_number_of_finishers athlete_performance athlete_gender  \\\n",
       "0                        20            3:17:55               M   \n",
       "1                        20            4:02:32               M   \n",
       "\n",
       "   athlete_average_speed  athlete_id  athlete_age  \n",
       "0                 15.158       71287           29  \n",
       "1                 12.369      629508           39  "
      ]
     },
     "execution_count": 66,
     "metadata": {},
     "output_type": "execute_result"
    }
   ],
   "source": [
    "df2.head(2)"
   ]
  },
  {
   "cell_type": "code",
   "execution_count": 68,
   "id": "1e96a7fd-42a9-4bb9-8f51-1ed86e305bc7",
   "metadata": {},
   "outputs": [],
   "source": [
    "df3 = df2[['race_day','race_name','race_length','race_number_of_finishers','athlete_id','athlete_gender','athlete_age','athlete_performance','athlete_average_speed']]"
   ]
  },
  {
   "cell_type": "code",
   "execution_count": 69,
   "id": "9dd3a83b-5047-417f-a785-ca09c925b933",
   "metadata": {},
   "outputs": [
    {
     "data": {
      "text/html": [
       "<div>\n",
       "<style scoped>\n",
       "    .dataframe tbody tr th:only-of-type {\n",
       "        vertical-align: middle;\n",
       "    }\n",
       "\n",
       "    .dataframe tbody tr th {\n",
       "        vertical-align: top;\n",
       "    }\n",
       "\n",
       "    .dataframe thead th {\n",
       "        text-align: right;\n",
       "    }\n",
       "</style>\n",
       "<table border=\"1\" class=\"dataframe\">\n",
       "  <thead>\n",
       "    <tr style=\"text-align: right;\">\n",
       "      <th></th>\n",
       "      <th>race_day</th>\n",
       "      <th>race_name</th>\n",
       "      <th>race_length</th>\n",
       "      <th>race_number_of_finishers</th>\n",
       "      <th>athlete_id</th>\n",
       "      <th>athlete_gender</th>\n",
       "      <th>athlete_age</th>\n",
       "      <th>athlete_performance</th>\n",
       "      <th>athlete_average_speed</th>\n",
       "    </tr>\n",
       "  </thead>\n",
       "  <tbody>\n",
       "    <tr>\n",
       "      <th>0</th>\n",
       "      <td>02.02.2020</td>\n",
       "      <td>West Seattle Beach Run - Winter Edition</td>\n",
       "      <td>50km</td>\n",
       "      <td>20</td>\n",
       "      <td>71287</td>\n",
       "      <td>M</td>\n",
       "      <td>29</td>\n",
       "      <td>3:17:55</td>\n",
       "      <td>15.158</td>\n",
       "    </tr>\n",
       "    <tr>\n",
       "      <th>1</th>\n",
       "      <td>02.02.2020</td>\n",
       "      <td>West Seattle Beach Run - Winter Edition</td>\n",
       "      <td>50km</td>\n",
       "      <td>20</td>\n",
       "      <td>629508</td>\n",
       "      <td>M</td>\n",
       "      <td>39</td>\n",
       "      <td>4:02:32</td>\n",
       "      <td>12.369</td>\n",
       "    </tr>\n",
       "  </tbody>\n",
       "</table>\n",
       "</div>"
      ],
      "text/plain": [
       "     race_day                                 race_name race_length  \\\n",
       "0  02.02.2020  West Seattle Beach Run - Winter Edition         50km   \n",
       "1  02.02.2020  West Seattle Beach Run - Winter Edition         50km   \n",
       "\n",
       "   race_number_of_finishers  athlete_id athlete_gender  athlete_age  \\\n",
       "0                        20       71287              M           29   \n",
       "1                        20      629508              M           39   \n",
       "\n",
       "  athlete_performance  athlete_average_speed  \n",
       "0            3:17:55                  15.158  \n",
       "1            4:02:32                  12.369  "
      ]
     },
     "execution_count": 69,
     "metadata": {},
     "output_type": "execute_result"
    }
   ],
   "source": [
    "df3.head(2)"
   ]
  },
  {
   "cell_type": "code",
   "execution_count": 70,
   "id": "2ba68664-e8aa-41b2-8f1f-ac05de631ba9",
   "metadata": {},
   "outputs": [],
   "source": [
    "#Charts and Graphs"
   ]
  },
  {
   "cell_type": "code",
   "execution_count": 71,
   "id": "aa3085f7-f1dd-49ca-981a-2ba8205c47e6",
   "metadata": {},
   "outputs": [
    {
     "data": {
      "text/plain": [
       "<Axes: xlabel='race_length', ylabel='Count'>"
      ]
     },
     "execution_count": 71,
     "metadata": {},
     "output_type": "execute_result"
    },
    {
     "data": {
      "image/png": "[encoded data removed]",
      "text/plain": [
       "<Figure size 640x480 with 1 Axes>"
      ]
     },
     "metadata": {},
     "output_type": "display_data"
    }
   ],
   "source": [
    "sns.histplot(df3['race_length'])"
   ]
  },
  {
   "cell_type": "code",
   "execution_count": 72,
   "id": "a400ffac-8e84-4659-a206-a21c702a7cee",
   "metadata": {},
   "outputs": [
    {
     "data": {
      "text/plain": [
       "<Axes: xlabel='race_length', ylabel='Count'>"
      ]
     },
     "execution_count": 72,
     "metadata": {},
     "output_type": "execute_result"
    },
    {
     "data": {
      "image/png": "[encoded data removed]",
      "text/plain": [
       "<Figure size 640x480 with 1 Axes>"
      ]
     },
     "metadata": {},
     "output_type": "display_data"
    }
   ],
   "source": [
    "sns.histplot(df3, x = 'race_length', hue = 'athlete_gender')"
   ]
  },
  {
   "cell_type": "code",
   "execution_count": 73,
   "id": "11a9da81-903e-4506-b818-fcb0b05915a9",
   "metadata": {},
   "outputs": [
    {
     "data": {
      "text/plain": [
       "<seaborn.axisgrid.FacetGrid at 0x2e3d1ed90>"
      ]
     },
     "execution_count": 73,
     "metadata": {},
     "output_type": "execute_result"
    },
    {
     "data": {
      "image/png": "[encoded data removed]",
      "text/plain": [
       "<Figure size 500x500 with 1 Axes>"
      ]
     },
     "metadata": {},
     "output_type": "display_data"
    }
   ],
   "source": [
    "sns.displot(df3[df3['race_length'] == '50mi']['athlete_average_speed'])"
   ]
  },
  {
   "cell_type": "code",
   "execution_count": 74,
   "id": "d03c2a85-3192-4235-ad40-fda2d9ab87f1",
   "metadata": {},
   "outputs": [
    {
     "data": {
      "text/plain": [
       "<Axes: xlabel='race_length', ylabel='athlete_average_speed'>"
      ]
     },
     "execution_count": 74,
     "metadata": {},
     "output_type": "execute_result"
    },
    {
     "data": {
      "image/png": "[encoded data removed]",
      "text/plain": [
       "<Figure size 640x480 with 1 Axes>"
      ]
     },
     "metadata": {},
     "output_type": "display_data"
    }
   ],
   "source": [
    "sns.violinplot(data = df3, x = 'race_length', y = 'athlete_average_speed', hue = 'athlete_gender')"
   ]
  },
  {
   "cell_type": "code",
   "execution_count": 75,
   "id": "7cbb7a7f-f87f-4f71-8d8c-6716cf4dc3f5",
   "metadata": {},
   "outputs": [
    {
     "data": {
      "text/plain": [
       "<Axes: xlabel='race_length', ylabel='athlete_average_speed'>"
      ]
     },
     "execution_count": 75,
     "metadata": {},
     "output_type": "execute_result"
    },
    {
     "data": {
      "image/png": "[encoded data removed]",
      "text/plain": [
       "<Figure size 640x480 with 1 Axes>"
      ]
     },
     "metadata": {},
     "output_type": "display_data"
    }
   ],
   "source": [
    "sns.violinplot(data = df3, x = 'race_length', y = 'athlete_average_speed', hue = 'athlete_gender', split = True, inner = 'quart')"
   ]
  },
  {
   "cell_type": "code",
   "execution_count": 76,
   "id": "782f2e38-a9bb-4448-b235-ecd6dd3b22cc",
   "metadata": {},
   "outputs": [
    {
     "data": {
      "text/plain": [
       "<seaborn.axisgrid.FacetGrid at 0x2e3506c90>"
      ]
     },
     "execution_count": 76,
     "metadata": {},
     "output_type": "execute_result"
    },
    {
     "data": {
      "image/png": "[encoded data removed]",
      "text/plain": [
       "<Figure size 500x500 with 1 Axes>"
      ]
     },
     "metadata": {},
     "output_type": "display_data"
    }
   ],
   "source": [
    "sns.lmplot(data = df3, x = 'athlete_age', y = 'athlete_average_speed')"
   ]
  },
  {
   "cell_type": "code",
   "execution_count": 78,
   "id": "b7276d9f-685b-4f2f-b5aa-a27a63c19858",
   "metadata": {},
   "outputs": [
    {
     "data": {
      "text/plain": [
       "<seaborn.axisgrid.FacetGrid at 0x107463090>"
      ]
     },
     "execution_count": 78,
     "metadata": {},
     "output_type": "execute_result"
    },
    {
     "data": {
      "image/png": "[encoded data removed]",
      "text/plain": [
       "<Figure size 616.611x500 with 1 Axes>"
      ]
     },
     "metadata": {},
     "output_type": "display_data"
    }
   ],
   "source": [
    "sns.lmplot(data = df3, x = 'athlete_age', y = 'athlete_average_speed', hue = 'athlete_gender')"
   ]
  },
  {
   "cell_type": "code",
   "execution_count": 84,
   "id": "cd3f2307-c423-4252-8aa2-da17b0d94b16",
   "metadata": {},
   "outputs": [
    {
     "data": {
      "text/plain": [
       "race_length  athlete_gender\n",
       "50km         F                 7.083011\n",
       "             M                 7.738985\n",
       "50mi         F                 6.834371\n",
       "             M                 7.257633\n",
       "Name: athlete_average_speed, dtype: float64"
      ]
     },
     "execution_count": 84,
     "metadata": {},
     "output_type": "execute_result"
    }
   ],
   "source": [
    "#Difference in speed for the 50k,50m male to female\n",
    "df3.groupby(['race_length', 'athlete_gender'])['athlete_average_speed'].mean()"
   ]
  },
  {
   "cell_type": "code",
   "execution_count": 86,
   "id": "8cb6741c-3bd8-4e65-8d7d-c4cb510839b8",
   "metadata": {},
   "outputs": [
    {
     "data": {
      "text/html": [
       "<div>\n",
       "<style scoped>\n",
       "    .dataframe tbody tr th:only-of-type {\n",
       "        vertical-align: middle;\n",
       "    }\n",
       "\n",
       "    .dataframe tbody tr th {\n",
       "        vertical-align: top;\n",
       "    }\n",
       "\n",
       "    .dataframe thead th {\n",
       "        text-align: right;\n",
       "    }\n",
       "</style>\n",
       "<table border=\"1\" class=\"dataframe\">\n",
       "  <thead>\n",
       "    <tr style=\"text-align: right;\">\n",
       "      <th></th>\n",
       "      <th>mean</th>\n",
       "      <th>count</th>\n",
       "    </tr>\n",
       "    <tr>\n",
       "      <th>athlete_age</th>\n",
       "      <th></th>\n",
       "      <th></th>\n",
       "    </tr>\n",
       "  </thead>\n",
       "  <tbody>\n",
       "    <tr>\n",
       "      <th>29</th>\n",
       "      <td>7.902252</td>\n",
       "      <td>135</td>\n",
       "    </tr>\n",
       "    <tr>\n",
       "      <th>23</th>\n",
       "      <td>7.779800</td>\n",
       "      <td>55</td>\n",
       "    </tr>\n",
       "    <tr>\n",
       "      <th>28</th>\n",
       "      <td>7.575252</td>\n",
       "      <td>107</td>\n",
       "    </tr>\n",
       "    <tr>\n",
       "      <th>30</th>\n",
       "      <td>7.569204</td>\n",
       "      <td>157</td>\n",
       "    </tr>\n",
       "    <tr>\n",
       "      <th>25</th>\n",
       "      <td>7.540923</td>\n",
       "      <td>91</td>\n",
       "    </tr>\n",
       "  </tbody>\n",
       "</table>\n",
       "</div>"
      ],
      "text/plain": [
       "                 mean  count\n",
       "athlete_age                 \n",
       "29           7.902252    135\n",
       "23           7.779800     55\n",
       "28           7.575252    107\n",
       "30           7.569204    157\n",
       "25           7.540923     91"
      ]
     },
     "execution_count": 86,
     "metadata": {},
     "output_type": "execute_result"
    }
   ],
   "source": [
    "#what age groups are the best in the 50m Race (20 + races min)\n",
    "df3.query('race_length == \"50mi\"').groupby('athlete_age')['athlete_average_speed'].agg(['mean', 'count']).sort_values('mean', ascending = False).query('count>19').head(5)"
   ]
  },
  {
   "cell_type": "code",
   "execution_count": 87,
   "id": "45bb1a62-7c81-4327-b0e4-85f357d8e35f",
   "metadata": {},
   "outputs": [
    {
     "data": {
      "text/html": [
       "<div>\n",
       "<style scoped>\n",
       "    .dataframe tbody tr th:only-of-type {\n",
       "        vertical-align: middle;\n",
       "    }\n",
       "\n",
       "    .dataframe tbody tr th {\n",
       "        vertical-align: top;\n",
       "    }\n",
       "\n",
       "    .dataframe thead th {\n",
       "        text-align: right;\n",
       "    }\n",
       "</style>\n",
       "<table border=\"1\" class=\"dataframe\">\n",
       "  <thead>\n",
       "    <tr style=\"text-align: right;\">\n",
       "      <th></th>\n",
       "      <th>mean</th>\n",
       "      <th>count</th>\n",
       "    </tr>\n",
       "    <tr>\n",
       "      <th>athlete_age</th>\n",
       "      <th></th>\n",
       "      <th></th>\n",
       "    </tr>\n",
       "  </thead>\n",
       "  <tbody>\n",
       "    <tr>\n",
       "      <th>60</th>\n",
       "      <td>6.261788</td>\n",
       "      <td>33</td>\n",
       "    </tr>\n",
       "    <tr>\n",
       "      <th>62</th>\n",
       "      <td>6.272730</td>\n",
       "      <td>37</td>\n",
       "    </tr>\n",
       "    <tr>\n",
       "      <th>61</th>\n",
       "      <td>6.358355</td>\n",
       "      <td>31</td>\n",
       "    </tr>\n",
       "    <tr>\n",
       "      <th>63</th>\n",
       "      <td>6.514806</td>\n",
       "      <td>31</td>\n",
       "    </tr>\n",
       "    <tr>\n",
       "      <th>58</th>\n",
       "      <td>6.582328</td>\n",
       "      <td>67</td>\n",
       "    </tr>\n",
       "  </tbody>\n",
       "</table>\n",
       "</div>"
      ],
      "text/plain": [
       "                 mean  count\n",
       "athlete_age                 \n",
       "60           6.261788     33\n",
       "62           6.272730     37\n",
       "61           6.358355     31\n",
       "63           6.514806     31\n",
       "58           6.582328     67"
      ]
     },
     "execution_count": 87,
     "metadata": {},
     "output_type": "execute_result"
    }
   ],
   "source": [
    "#what age groups are the worst in the 50m Race (20 + races min)\n",
    "df3.query('race_length == \"50mi\"').groupby('athlete_age')['athlete_average_speed'].agg(['mean', 'count']).sort_values('mean', ascending = True).query('count>19').head(5)"
   ]
  },
  {
   "cell_type": "code",
   "execution_count": 93,
   "id": "091c7393-ffaa-476c-8c9c-8dd6af741684",
   "metadata": {},
   "outputs": [],
   "source": [
    "#Seasons for the data -› Slower in summer than winter?\n",
    "#spring 3-5\n",
    "#Summer 6-8\n",
    "#faLL 9-11\n",
    "#winter 12 -2\n",
    "#split between two decimals\n",
    "\n",
    "df3['race_month'] = df3['race_day'].str.split('.').str.get(1).astype(int)"
   ]
  },
  {
   "cell_type": "code",
   "execution_count": 100,
   "id": "bfcd14f3-6f57-448a-beca-ea3ae16582ca",
   "metadata": {},
   "outputs": [],
   "source": [
    "df3['race_season'] = df3['race_month'].apply(lambda x: 'Winter' if x in [0, 1, 2] else 'Spring' if x in [3, 4, 5] else 'Summer' if x in [6, 7, 8] else 'Fall' if x in [9, 10, 11] else None)"
   ]
  },
  {
   "cell_type": "code",
   "execution_count": 112,
   "id": "22dcd007-eb4e-4354-8cde-591019881781",
   "metadata": {},
   "outputs": [
    {
     "data": {
      "text/html": [
       "<div>\n",
       "<style scoped>\n",
       "    .dataframe tbody tr th:only-of-type {\n",
       "        vertical-align: middle;\n",
       "    }\n",
       "\n",
       "    .dataframe tbody tr th {\n",
       "        vertical-align: top;\n",
       "    }\n",
       "\n",
       "    .dataframe thead th {\n",
       "        text-align: right;\n",
       "    }\n",
       "</style>\n",
       "<table border=\"1\" class=\"dataframe\">\n",
       "  <thead>\n",
       "    <tr style=\"text-align: right;\">\n",
       "      <th></th>\n",
       "      <th>mean</th>\n",
       "      <th>count</th>\n",
       "    </tr>\n",
       "    <tr>\n",
       "      <th>race_season</th>\n",
       "      <th></th>\n",
       "      <th></th>\n",
       "    </tr>\n",
       "  </thead>\n",
       "  <tbody>\n",
       "    <tr>\n",
       "      <th>Spring</th>\n",
       "      <td>7.684430</td>\n",
       "      <td>3294</td>\n",
       "    </tr>\n",
       "    <tr>\n",
       "      <th>Winter</th>\n",
       "      <td>7.653778</td>\n",
       "      <td>8462</td>\n",
       "    </tr>\n",
       "    <tr>\n",
       "      <th>Fall</th>\n",
       "      <td>7.406619</td>\n",
       "      <td>8315</td>\n",
       "    </tr>\n",
       "    <tr>\n",
       "      <th>Summer</th>\n",
       "      <td>6.869336</td>\n",
       "      <td>2653</td>\n",
       "    </tr>\n",
       "  </tbody>\n",
       "</table>\n",
       "</div>"
      ],
      "text/plain": [
       "                 mean  count\n",
       "race_season                 \n",
       "Spring       7.684430   3294\n",
       "Winter       7.653778   8462\n",
       "Fall         7.406619   8315\n",
       "Summer       6.869336   2653"
      ]
     },
     "execution_count": 112,
     "metadata": {},
     "output_type": "execute_result"
    }
   ],
   "source": [
    "df3.groupby('race_season')['athlete_average_speed'].agg(['mean','count']).sort_values('mean', ascending = False)"
   ]
  },
  {
   "cell_type": "code",
   "execution_count": 113,
   "id": "814ee2fc-754e-406d-94b7-e0ab167dfeb6",
   "metadata": {},
   "outputs": [
    {
     "data": {
      "text/html": [
       "<div>\n",
       "<style scoped>\n",
       "    .dataframe tbody tr th:only-of-type {\n",
       "        vertical-align: middle;\n",
       "    }\n",
       "\n",
       "    .dataframe tbody tr th {\n",
       "        vertical-align: top;\n",
       "    }\n",
       "\n",
       "    .dataframe thead th {\n",
       "        text-align: right;\n",
       "    }\n",
       "</style>\n",
       "<table border=\"1\" class=\"dataframe\">\n",
       "  <thead>\n",
       "    <tr style=\"text-align: right;\">\n",
       "      <th></th>\n",
       "      <th>mean</th>\n",
       "      <th>count</th>\n",
       "    </tr>\n",
       "    <tr>\n",
       "      <th>race_season</th>\n",
       "      <th></th>\n",
       "      <th></th>\n",
       "    </tr>\n",
       "  </thead>\n",
       "  <tbody>\n",
       "    <tr>\n",
       "      <th>Fall</th>\n",
       "      <td>7.511585</td>\n",
       "      <td>1997</td>\n",
       "    </tr>\n",
       "    <tr>\n",
       "      <th>Winter</th>\n",
       "      <td>7.450888</td>\n",
       "      <td>969</td>\n",
       "    </tr>\n",
       "    <tr>\n",
       "      <th>Spring</th>\n",
       "      <td>7.082557</td>\n",
       "      <td>836</td>\n",
       "    </tr>\n",
       "    <tr>\n",
       "      <th>Summer</th>\n",
       "      <td>6.505776</td>\n",
       "      <td>817</td>\n",
       "    </tr>\n",
       "  </tbody>\n",
       "</table>\n",
       "</div>"
      ],
      "text/plain": [
       "                 mean  count\n",
       "race_season                 \n",
       "Fall         7.511585   1997\n",
       "Winter       7.450888    969\n",
       "Spring       7.082557    836\n",
       "Summer       6.505776    817"
      ]
     },
     "execution_count": 113,
     "metadata": {},
     "output_type": "execute_result"
    }
   ],
   "source": [
    "#50 miler onLy\n",
    "df3.query('race_length == \"50mi\"').groupby('race_season')['athlete_average_speed'].agg(['mean', 'count']).sort_values('mean', ascending = False)"
   ]
  },
  {
   "cell_type": "code",
   "execution_count": null,
   "id": "2fde58e8-fa80-4111-8e94-bbfe7067854a",
   "metadata": {},
   "outputs": [],
   "source": []
  }
 ],
 "metadata": {
  "kernelspec": {
   "display_name": "Python 3 (ipykernel)",
   "language": "python",
   "name": "python3"
  },
  "language_info": {
   "codemirror_mode": {
    "name": "ipython",
    "version": 3
   },
   "file_extension": ".py",
   "mimetype": "text/x-python",
   "name": "python",
   "nbconvert_exporter": "python",
   "pygments_lexer": "ipython3",
   "version": "3.11.3"
  }
 },
 "nbformat": 4,
 "nbformat_minor": 5
}
